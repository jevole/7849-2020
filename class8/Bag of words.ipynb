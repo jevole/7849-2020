{
 "cells": [
  {
   "cell_type": "markdown",
   "metadata": {},
   "source": [
    "## Bag of words\n",
    "\n",
    "A commonly used way to describe/capture text features is by counting how often words appear in a text. \n",
    "\n",
    "A 'dictionary' (not a python dictionary) is a list of words to count."
   ]
  },
  {
   "cell_type": "code",
   "execution_count": 1,
   "metadata": {},
   "outputs": [],
   "source": [
    "# read Apple 2017 md&a\n",
    "with open('AAPL_2017.html' , 'r') as myfile:    \n",
    "    mda =  myfile.read()     "
   ]
  },
  {
   "cell_type": "code",
   "execution_count": 12,
   "metadata": {},
   "outputs": [],
   "source": [
    "# load dictionaries\n",
    "# positive words\n",
    "with open('positive words.txt' , 'r') as myfile:    \n",
    "    pos = [word.lower().strip('\\n') for word in myfile.readlines()]\n",
    "\n",
    "# negative words\n",
    "with open('negative words.txt' , 'r') as myfile:    \n",
    "    neg = [word.lower().strip('\\n') for word in myfile.readlines()]   "
   ]
  },
  {
   "cell_type": "code",
   "execution_count": 13,
   "metadata": {},
   "outputs": [
    {
     "data": {
      "text/plain": [
       "['item',\n",
       " '7',\n",
       " 'management',\n",
       " '’',\n",
       " 'discussion',\n",
       " 'analysis',\n",
       " 'financial',\n",
       " 'condition',\n",
       " 'results',\n",
       " 'operations']"
      ]
     },
     "execution_count": 13,
     "metadata": {},
     "output_type": "execute_result"
    }
   ],
   "source": [
    "import nltk\n",
    "from nltk import FreqDist\n",
    "from nltk.tokenize import word_tokenize\n",
    "from nltk.corpus import stopwords\n",
    "import string\n",
    "\n",
    "# list of stop words and punctuation\n",
    "stopWords = set(stopwords.words('english') ) \n",
    "\n",
    "# tokens excluding stopwords\n",
    "mda_tokens = [x.lower() for x in word_tokenize(mda) if x.lower() not in stopWords and x not in string.punctuation]\n",
    "mda_tokens[0:10]"
   ]
  },
  {
   "cell_type": "code",
   "execution_count": 18,
   "metadata": {},
   "outputs": [
    {
     "name": "stdout",
     "output_type": "stream",
     "text": [
      "#positive words: 46 ['greater', 'greater', 'favorable', 'favorable', 'greater', 'greater', 'better', 'greater', 'greater', 'greater', 'greater', 'greater', 'strength', 'strength', 'favorable', 'favorable', 'favorable', 'strengthening', 'favorable', 'effective', 'effective', 'effective', 'effective', 'effective', 'greater', 'effective', 'improvements', 'enhances', 'improvements', 'effective', 'transparency', 'improvements', 'improvements', 'satisfy', 'enhancements', 'rewards', 'positive', 'successful', 'best', 'best', 'greater', 'gains', 'gains', 'favorable', 'benefit', 'greater']\n",
      "#negative words: 112 ['litigation', 'force', 'weakness', 'unfavorable', 'declined', 'weakness', 'weakness', 'unfavorable', 'decline', 'challenging', 'weakness', 'weakness', 'unfavorable', 'weakness', 'weakness', 'unfavorable', 'declined', 'weakness', 'negatively', 'weakness', 'infringement', 'weakness', 'unfavorable', 'weakness', 'weakness', 'unfavorable', 'weakness', 'weakness', 'weakness', 'unfavorable', 'weakness', 'unfavorable', 'downward', 'adversely', 'critical', 'unfavorable', 'losses', 'closed', 'ineffectiveness', 'deficiencies', 'deficiencies', 'disclosing', 'losses', 'losses', 'losses', 'loss', 'corrections', 'loss', 'expose', 'penalties', 'penalties', 'unable', 'damages', 'loss', 'loss', 'claims', 'insufficient', 'losses', 'claims', 'critical', 'critical', 'impairment', 'cancellation', 'critical', 'critical', 'loss', 'loss', 'undelivered', 'undelivered', 'lapses', 'adverse', 'impairment', 'losses', 'impairment', 'losses', 'impaired', 'impairment', 'impaired', 'adverse', 'cancellation', 'obsolete', 'impairment', 'impairment', 'loss', 'unpredictable', 'obsolescence', 'impairments', 'unforeseen', 'negatively', 'deterioration', 'adversely', 'cancellation', 'canceled', 'canceled', 'abrupt', 'decline', 'unanticipated', 'cancellation', 'adversely', 'cancellation', 'failures', 'failure', 'losses', 'inconsistent', 'claims', 'loss', 'loss', 'loss', 'loss', 'claims', 'claims', 'adversely']\n"
     ]
    }
   ],
   "source": [
    "pos_matches =  [ w for w in mda_tokens if w in pos  ]  \n",
    "print ( '#positive words:', len(pos_matches),  pos_matches )\n",
    "\n",
    "neg_matches =  [ w for w in mda_tokens if w in neg  ]  \n",
    "print ( '#negative words:', len(neg_matches),  neg_matches )"
   ]
  }
 ],
 "metadata": {
  "kernelspec": {
   "display_name": "Python 3",
   "language": "python",
   "name": "python3"
  },
  "language_info": {
   "codemirror_mode": {
    "name": "ipython",
    "version": 3
   },
   "file_extension": ".py",
   "mimetype": "text/x-python",
   "name": "python",
   "nbconvert_exporter": "python",
   "pygments_lexer": "ipython3",
   "version": "3.7.3"
  }
 },
 "nbformat": 4,
 "nbformat_minor": 2
}
