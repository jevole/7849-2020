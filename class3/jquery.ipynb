{
 "cells": [
  {
   "cell_type": "markdown",
   "metadata": {},
   "source": [
    "# Using jQuery\n",
    "\n",
    "## Testing jQuery in the browser (manually)\n",
    "\n",
    "Open a web page (e.g. google.com), and open the debug window (usually F12 or ctrl+shift+C).\n",
    "\n",
    "Select the console, and copy/paste:\n",
    "\n",
    "```javascript\n",
    "var script = document.createElement(\"script\")\n",
    "script.type = \"text/javascript\";\n",
    "script.src = \"https://code.jquery.com/jquery-3.2.1.js\";\n",
    "document.getElementsByTagName(\"head\")[0].appendChild(script);\n",
    "```\n",
    "\n",
    "The above code will load the jQuery script."
   ]
  },
  {
   "cell_type": "markdown",
   "metadata": {},
   "source": [
    "## jQuery in selenium"
   ]
  },
  {
   "cell_type": "code",
   "execution_count": 2,
   "metadata": {},
   "outputs": [],
   "source": [
    "from selenium import webdriver\n",
    "\n",
    "#https://www.startengine.com/explore\n",
    "driver = webdriver.Chrome(r'chromedriver.exe')\n",
    "driver.get(\"https://www.startengine.com/explore\") "
   ]
  },
  {
   "cell_type": "markdown",
   "metadata": {},
   "source": [
    "### inject jquery.js into the page that was just loaded (startengine.com)"
   ]
  },
  {
   "cell_type": "code",
   "execution_count": 3,
   "metadata": {},
   "outputs": [],
   "source": [
    "with open('jquery.js', 'r') as jquery_js:\n",
    "    driver.execute_script( jquery_js.read() ) "
   ]
  },
  {
   "cell_type": "code",
   "execution_count": null,
   "metadata": {},
   "outputs": [],
   "source": [
    "# inspect in console (F12 in Chrome) if $ (jquery) is loaded"
   ]
  },
  {
   "cell_type": "code",
   "execution_count": 4,
   "metadata": {},
   "outputs": [],
   "source": [
    "# let's get rid of that notification (startengine would like to ...)\n",
    "# id of element: onesignal-popover-cancel-button\n",
    "driver.find_element_by_id(\"onesignal-popover-cancel-button\").click()"
   ]
  },
  {
   "cell_type": "markdown",
   "metadata": {},
   "source": [
    "### Using 'execute_script' to add functions to a page"
   ]
  },
  {
   "cell_type": "code",
   "execution_count": null,
   "metadata": {},
   "outputs": [],
   "source": [
    "mycode = \"\"\"\n",
    "window.greeting = function (name) { \n",
    "    return \"hello \" + name;\n",
    "}\n",
    "\"\"\"\n",
    "driver.execute_script( mycode  )"
   ]
  },
  {
   "cell_type": "code",
   "execution_count": null,
   "metadata": {},
   "outputs": [],
   "source": [
    "mystring = driver.execute_script(  'return greeting(\"iguana\")'  )"
   ]
  },
  {
   "cell_type": "code",
   "execution_count": null,
   "metadata": {},
   "outputs": [],
   "source": [
    "mystring"
   ]
  },
  {
   "cell_type": "code",
   "execution_count": 11,
   "metadata": {},
   "outputs": [
    {
     "name": "stdout",
     "output_type": "stream",
     "text": [
      "https://www.startengine.com/terracycle\n",
      "https://www.startengine.com/knightscope\n",
      "https://www.startengine.com/dbg\n",
      "https://www.startengine.com/startengine-crowdfunding\n",
      "https://www.startengine.com/golfboard-2\n",
      "https://www.startengine.com/hylete-2019\n",
      "https://www.startengine.com/liquidpiston\n",
      "https://www.startengine.com/parallel\n",
      "https://www.startengine.com/oneroqspirits\n",
      "https://www.startengine.com/xcraft2018\n"
     ]
    }
   ],
   "source": [
    "# this gets the hyperlinks to the comments (but not yet in a shape that is useful for python)\n",
    "# with :) further processing: i.e., a loop where the href attribute is extracted\n",
    "myEl=driver.execute_script('return $(\"div.tombstone a\")')\n",
    "for el in myEl[0:10]:\n",
    "    #print(el)\n",
    "    print(el.get_attribute(\"href\"))    "
   ]
  },
  {
   "cell_type": "markdown",
   "metadata": {},
   "source": [
    "## As above, but let's make a nice list (array) in javascript"
   ]
  },
  {
   "cell_type": "code",
   "execution_count": 16,
   "metadata": {},
   "outputs": [],
   "source": [
    "# Javascript (using jQuery) to get exactly what we need\n",
    "myJs = '''\n",
    "window.getFirstTenLinks = function() {\n",
    "    tombs = $(\"div.tombstone a\");\n",
    "    results = [];\n",
    "    $.each( tombs, function(index, el) {\n",
    "        if (index < 10){\n",
    "            console.log( $(el).attr('href') );\n",
    "            results.push( $(el).attr('href') );\n",
    "            }\n",
    "        });\n",
    "    return(results);\n",
    "}\n",
    "'''"
   ]
  },
  {
   "cell_type": "code",
   "execution_count": 17,
   "metadata": {},
   "outputs": [
    {
     "name": "stdout",
     "output_type": "stream",
     "text": [
      "<class 'list'> <class 'str'>\n",
      "['/terracycle', '/knightscope', '/dbg', '/startengine-crowdfunding', '/golfboard-2', '/hylete-2019', '/liquidpiston', '/parallel', '/oneroqspirits', '/xcraft2018']\n"
     ]
    }
   ],
   "source": [
    "myEl=driver.execute_script( myJs )\n",
    "myEl=driver.execute_script('return getFirstTenLinks()')\n",
    "print( type(myEl), type(myEl[0]) )\n",
    "print(myEl)"
   ]
  },
  {
   "cell_type": "markdown",
   "metadata": {},
   "source": [
    "## In-Class assignment\n",
    "\n",
    "Write Javascript/jQuery code to extract main variables from the project pages:\n",
    "\n",
    "- Amount raised\n",
    "- Price per share\n",
    "- Offering type\n",
    "- Minimum investment"
   ]
  },
  {
   "cell_type": "code",
   "execution_count": null,
   "metadata": {},
   "outputs": [],
   "source": []
  }
 ],
 "metadata": {
  "kernelspec": {
   "display_name": "Python 3",
   "language": "python",
   "name": "python3"
  },
  "language_info": {
   "codemirror_mode": {
    "name": "ipython",
    "version": 3
   },
   "file_extension": ".py",
   "mimetype": "text/x-python",
   "name": "python",
   "nbconvert_exporter": "python",
   "pygments_lexer": "ipython3",
   "version": "3.7.3"
  }
 },
 "nbformat": 4,
 "nbformat_minor": 2
}
