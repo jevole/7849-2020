{
 "cells": [
  {
   "cell_type": "code",
   "execution_count": 1,
   "metadata": {},
   "outputs": [],
   "source": [
    "with open('in-class-assignment-reviews.txt', 'r') as f:\n",
    "    content = f.readlines()"
   ]
  },
  {
   "cell_type": "code",
   "execution_count": 2,
   "metadata": {},
   "outputs": [
    {
     "data": {
      "text/plain": [
       "'1|Amazing benefits, great pay. People are amazing and a large reason I chose to work at this firm, but have found out that these amazing people are in certain groups - love my Strategy group, but had a hard time connecting with another group. Very bureaucratic, lot of red tape. No transparency in higher level decision making. Better communication, more company-wide involvement\\n'"
      ]
     },
     "execution_count": 2,
     "metadata": {},
     "output_type": "execute_result"
    }
   ],
   "source": [
    "content[0]"
   ]
  },
  {
   "cell_type": "code",
   "execution_count": 14,
   "metadata": {},
   "outputs": [],
   "source": [
    "keywords = [\"great\", \"consult\", \"advisor\", \"summer associate\", \"technician\", \"clerk\", \"administrative\",\n",
    "        \"administration\", \"administrator\", \"actuarial\", \"developer\", \"analyst\", \"engineer\", \"marketing\",\n",
    "        \"human resources\", \"product manager\", \"automation\", \"business development\", \"enterprise\" ]"
   ]
  },
  {
   "cell_type": "code",
   "execution_count": 6,
   "metadata": {},
   "outputs": [
    {
     "data": {
      "text/plain": [
       "[True, False, True]"
      ]
     },
     "execution_count": 6,
     "metadata": {},
     "output_type": "execute_result"
    }
   ],
   "source": [
    "[ x in \"go gators\" for x in [\"go\", \"tigers\", \"gators\"]]"
   ]
  },
  {
   "cell_type": "code",
   "execution_count": 7,
   "metadata": {},
   "outputs": [
    {
     "data": {
      "text/plain": [
       "True"
      ]
     },
     "execution_count": 7,
     "metadata": {},
     "output_type": "execute_result"
    }
   ],
   "source": [
    "any ( [ x in \"review blah blah consult blah advisor\" for x in keywords] ) "
   ]
  },
  {
   "cell_type": "code",
   "execution_count": 8,
   "metadata": {},
   "outputs": [
    {
     "data": {
      "text/plain": [
       "1"
      ]
     },
     "execution_count": 8,
     "metadata": {},
     "output_type": "execute_result"
    }
   ],
   "source": [
    "1 if any ( [ x in \"review blah blah consult blah advisor\" for x in keywords] )  else 0"
   ]
  },
  {
   "cell_type": "code",
   "execution_count": 9,
   "metadata": {},
   "outputs": [
    {
     "data": {
      "text/plain": [
       "0"
      ]
     },
     "execution_count": 9,
     "metadata": {},
     "output_type": "execute_result"
    }
   ],
   "source": [
    "1 if any ( [ x in \"review blah blah adfaf adfa asfdf\" for x in keywords] )  else 0"
   ]
  },
  {
   "cell_type": "code",
   "execution_count": null,
   "metadata": {},
   "outputs": [],
   "source": [
    "#final output: something like this:\n",
    "#[  0, 0, 0, 1, 0, 1, 0, 0]"
   ]
  },
  {
   "cell_type": "code",
   "execution_count": 15,
   "metadata": {},
   "outputs": [
    {
     "name": "stdout",
     "output_type": "stream",
     "text": [
      "list of true/false [True, False, False, False, False, False, False, False, False, False, False, False, False, False, False, False, False, False, False]\n",
      "[1]\n",
      "list of true/false [False, False, False, False, False, False, False, False, False, False, False, False, False, False, False, False, False, False, False]\n",
      "[1, 0]\n",
      "list of true/false [True, False, False, False, False, False, False, False, False, False, False, False, False, False, False, False, False, False, False]\n",
      "[1, 0, 1]\n",
      "list of true/false [False, False, False, False, False, False, False, False, False, False, False, False, False, False, False, False, False, False, False]\n",
      "[1, 0, 1, 0]\n",
      "list of true/false [False, False, False, False, False, False, False, False, False, False, False, False, False, False, False, False, False, False, False]\n",
      "[1, 0, 1, 0, 0]\n",
      "list of true/false [True, False, False, False, False, False, False, False, False, False, False, False, False, False, False, False, False, False, False]\n",
      "[1, 0, 1, 0, 0, 1]\n",
      "list of true/false [False, False, False, False, False, False, False, False, False, False, False, False, False, False, False, False, False, False, False]\n",
      "[1, 0, 1, 0, 0, 1, 0]\n",
      "list of true/false [False, False, False, False, False, False, False, False, False, False, False, False, False, False, False, False, False, False, False]\n",
      "[1, 0, 1, 0, 0, 1, 0, 0]\n"
     ]
    }
   ],
   "source": [
    "# dummies will capture the dummies \n",
    "dummies = []\n",
    "for review in content:\n",
    "    #print(review)\n",
    "    print('list of true/false', [ x in review for x in keywords])\n",
    "    dummies.append( 1 if any ( [ x in review for x in keywords] )  else 0  )\n",
    "    print(dummies)\n"
   ]
  },
  {
   "cell_type": "code",
   "execution_count": 17,
   "metadata": {},
   "outputs": [
    {
     "data": {
      "text/plain": [
       "[1, 0, 1, 0, 0, 1, 0, 0]"
      ]
     },
     "execution_count": 17,
     "metadata": {},
     "output_type": "execute_result"
    }
   ],
   "source": [
    "def doIt(item):\n",
    "    return 1 if any ( [ x in item for x in keywords] )  else 0 \n",
    "\n",
    "[ doIt(x) for x in content  ]\n",
    "    "
   ]
  },
  {
   "cell_type": "code",
   "execution_count": 18,
   "metadata": {},
   "outputs": [
    {
     "data": {
      "text/plain": [
       "['1|Amazing benefits, great pay. People are amazing and a large reason I chose to work at this firm, but have found out that these amazing people are in certain groups - love my Strategy group, but had a hard time connecting with another group. Very bureaucratic, lot of red tape. No transparency in higher level decision making. Better communication, more company-wide involvement\\n',\n",
       " \"2|Amazing network. Huge amount of responsibility and learning opportunities. Incredible opportunities when you leave. Work life balance is poor. Keep doing what you're doing\\n\",\n",
       " '3|Interesting line of work. Nice office. Intelligent co-workers. The EY name is great for your resume. Travel opportunity and client exposure is great for young professionals. Work life balance is last priority. Expectations couldn\\'t be higher. Politics are a major factor. Growth is limited by corporate structure, forcing upper management to higher someone who has no idea what they are doing rather than promote within. Severe lack of external opportunities upon departure. Partner track is flooded, resulting in a limited time frame. The \"I had to suffer through it, so you do too\" attitude â€¦  is extremely prevalent. Beware of the \"pecking order.\" Compensation results in minimum wage after all the hours. Bonus is based on company performance, not your own. Be prepared for \"the firm didn\\'t do as well as we had hoped this year\" compensation conversation annually. Major disconnect between upper management and staff / seniors. There are staff that have never had a conversation with partners. Show some respect for the people that help you put millions behind your name every year. Treat people like humans not resources.\\n',\n",
       " '4|Lots of opportunities and chance to work with smart and talented individuals. EY leads the top 4 when it comes to culture and values. Long work hours depending from project to project.\\n',\n",
       " \"5|When I first started, I loved it, was pretty much left to do my job, no micro-managing, wonderful supervisor. Some mgmt. changed within dept, and some younger less experienced mgr who was promoted from within our group. Lots to learn. Lots of favoritism within my group. rank Promotions within group were scarce, and given to people who don't get along with rest of team for the most part, very difficult to understand their process and how to achieve eligibility for rank promotion. Be the same to all employees within group, I realize everyone's workstyle is different, however, you should still treat everyone the same \\n\",\n",
       " '6|International Company, flexible work schedule, great vacation. EY is a great company, but is mostly focused on client serving personnel and tends to forget about admin support positions. Your admin support team are the backbone of your company. Treat them like you appreciate their contribution to your success.\\n',\n",
       " \"7|Great coworkers who genuinely care about each other. The work I do is enjoyable and EY provides the framework to allow that to happen. Support is abundant throughout the organization. Personally I'm not a huge fan of the mid year/yearly review process. It's a bit artificial to submit self review over and over again. I would prefer if it consisted of reviews from fellow coworkers/managers.\\n\",\n",
       " \"8|Opportunities to interact with all different levels of the organization, both within EY and at clients. Plenty of opportunities for growth and world-class training. Depending on client base, work / life balance can be very tough to achieve (that's why I left). But the training gave me a solid base for the rest of my career. Nothing really to think of. Work / life balance issues is a common issue to any professional services firm, so not a knock on the firm itself.\"]"
      ]
     },
     "execution_count": 18,
     "metadata": {},
     "output_type": "execute_result"
    }
   ],
   "source": [
    "# makes a copy\n",
    "[ x for x in content  ]"
   ]
  }
 ],
 "metadata": {
  "kernelspec": {
   "display_name": "Python 3",
   "language": "python",
   "name": "python3"
  },
  "language_info": {
   "codemirror_mode": {
    "name": "ipython",
    "version": 3
   },
   "file_extension": ".py",
   "mimetype": "text/x-python",
   "name": "python",
   "nbconvert_exporter": "python",
   "pygments_lexer": "ipython3",
   "version": "3.7.3"
  }
 },
 "nbformat": 4,
 "nbformat_minor": 2
}
