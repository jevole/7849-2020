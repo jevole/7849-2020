{
 "cells": [
  {
   "cell_type": "code",
   "execution_count": null,
   "metadata": {},
   "outputs": [],
   "source": [
    "# I have a csv with name and experience (pro, prepped and observer)\n",
    "# I want to randomly create 3 groups but spread out the experience \n",
    "# not have all pros in one group"
   ]
  },
  {
   "cell_type": "code",
   "execution_count": 6,
   "metadata": {},
   "outputs": [
    {
     "data": {
      "text/plain": [
       "[{'name': 'Jenna', 'experience': 'prepped'},\n",
       " {'name': 'Minmo', 'experience': 'prepped'},\n",
       " {'name': 'Brianna', 'experience': 'prepped'},\n",
       " {'name': 'Osama', 'experience': 'prepped'},\n",
       " {'name': 'Justin', 'experience': 'prepped'},\n",
       " {'name': 'Topcu', 'experience': 'prepped'},\n",
       " {'name': 'Jing', 'experience': 'prepped'},\n",
       " {'name': 'Matthew', 'experience': 'prepped'},\n",
       " {'name': 'Mark', 'experience': 'prepped'},\n",
       " {'name': 'Cathy', 'experience': 'prepped'},\n",
       " {'name': 'Mike', 'experience': 'observer'},\n",
       " {'name': 'Jenny', 'experience': 'observer'},\n",
       " {'name': 'Pancy', 'experience': 'observer'}]"
      ]
     },
     "execution_count": 6,
     "metadata": {},
     "output_type": "execute_result"
    }
   ],
   "source": [
    "import csv\n",
    "from random import *\n",
    "\n",
    "# import the file with people and roles\n",
    "with open('name_and_experience.csv') as f:\n",
    "    # create dictionary for each person (key, value pairs), where keys are: name, role (see first line of file)\n",
    "    # and make a list of all persons\n",
    "    persons = [{k: v for k, v in row.items()} for row in csv.DictReader(f, skipinitialspace=True)]\n",
    "# print list    \n",
    "persons"
   ]
  },
  {
   "cell_type": "code",
   "execution_count": 7,
   "metadata": {},
   "outputs": [
    {
     "data": {
      "text/plain": [
       "'Jenna'"
      ]
     },
     "execution_count": 7,
     "metadata": {},
     "output_type": "execute_result"
    }
   ],
   "source": [
    "persons[0] ['name']"
   ]
  },
  {
   "cell_type": "code",
   "execution_count": 8,
   "metadata": {},
   "outputs": [
    {
     "data": {
      "text/plain": [
       "[{'name': 'Jenna', 'experience': 'prepped', 'random': 247},\n",
       " {'name': 'Minmo', 'experience': 'prepped', 'random': 375},\n",
       " {'name': 'Brianna', 'experience': 'prepped', 'random': 808},\n",
       " {'name': 'Osama', 'experience': 'prepped', 'random': 85},\n",
       " {'name': 'Justin', 'experience': 'prepped', 'random': 817},\n",
       " {'name': 'Topcu', 'experience': 'prepped', 'random': 918},\n",
       " {'name': 'Jing', 'experience': 'prepped', 'random': 961},\n",
       " {'name': 'Matthew', 'experience': 'prepped', 'random': 816},\n",
       " {'name': 'Mark', 'experience': 'prepped', 'random': 427},\n",
       " {'name': 'Cathy', 'experience': 'prepped', 'random': 635},\n",
       " {'name': 'Mike', 'experience': 'observer', 'random': 766},\n",
       " {'name': 'Jenny', 'experience': 'observer', 'random': 849},\n",
       " {'name': 'Pancy', 'experience': 'observer', 'random': 443}]"
      ]
     },
     "execution_count": 8,
     "metadata": {},
     "output_type": "execute_result"
    }
   ],
   "source": [
    "# add a random number\n",
    "for person in persons:\n",
    "    person['random'] = randint(1, 1000)  \n",
    "# print list    \n",
    "persons"
   ]
  },
  {
   "cell_type": "code",
   "execution_count": null,
   "metadata": {},
   "outputs": [],
   "source": [
    "# next: sort by 'random'  (use google: python sort list of dictionaries)\n",
    "# then: sort by experience (so that mike, jenny, pancy)\n",
    "# then: create 3 empty lists (one list for each group)\n",
    "# then: go through persons, and add/move each person at the time to each group\n",
    "# so, person 1 goes to group 1, person 2 to group 2, ... , person 4 to group 1, person 5 to group 2"
   ]
  },
  {
   "cell_type": "code",
   "execution_count": 9,
   "metadata": {},
   "outputs": [
    {
     "data": {
      "text/plain": [
       "[{'name': 'Pancy', 'experience': 'observer', 'random': 443},\n",
       " {'name': 'Mike', 'experience': 'observer', 'random': 766},\n",
       " {'name': 'Jenny', 'experience': 'observer', 'random': 849},\n",
       " {'name': 'Osama', 'experience': 'prepped', 'random': 85},\n",
       " {'name': 'Jenna', 'experience': 'prepped', 'random': 247},\n",
       " {'name': 'Minmo', 'experience': 'prepped', 'random': 375},\n",
       " {'name': 'Mark', 'experience': 'prepped', 'random': 427},\n",
       " {'name': 'Cathy', 'experience': 'prepped', 'random': 635},\n",
       " {'name': 'Brianna', 'experience': 'prepped', 'random': 808},\n",
       " {'name': 'Matthew', 'experience': 'prepped', 'random': 816},\n",
       " {'name': 'Justin', 'experience': 'prepped', 'random': 817},\n",
       " {'name': 'Topcu', 'experience': 'prepped', 'random': 918},\n",
       " {'name': 'Jing', 'experience': 'prepped', 'random': 961}]"
      ]
     },
     "execution_count": 9,
     "metadata": {},
     "output_type": "execute_result"
    }
   ],
   "source": [
    "persons = sorted(persons, key=lambda k: k['random']) \n",
    "persons = sorted(persons, key=lambda k: k['experience'])\n",
    "persons"
   ]
  },
  {
   "cell_type": "code",
   "execution_count": 13,
   "metadata": {},
   "outputs": [
    {
     "name": "stdout",
     "output_type": "stream",
     "text": [
      "group 1:  [{'name': 'Pancy', 'experience': 'observer', 'random': 443}, {'name': 'Osama', 'experience': 'prepped', 'random': 85}, {'name': 'Mark', 'experience': 'prepped', 'random': 427}, {'name': 'Matthew', 'experience': 'prepped', 'random': 816}, {'name': 'Jing', 'experience': 'prepped', 'random': 961}]\n",
      "group 2:  [{'name': 'Mike', 'experience': 'observer', 'random': 766}, {'name': 'Jenna', 'experience': 'prepped', 'random': 247}, {'name': 'Cathy', 'experience': 'prepped', 'random': 635}, {'name': 'Justin', 'experience': 'prepped', 'random': 817}]\n",
      "group 3:  [{'name': 'Jenny', 'experience': 'observer', 'random': 849}, {'name': 'Minmo', 'experience': 'prepped', 'random': 375}, {'name': 'Brianna', 'experience': 'prepped', 'random': 808}, {'name': 'Topcu', 'experience': 'prepped', 'random': 918}]\n"
     ]
    }
   ],
   "source": [
    "#list of groups (list holding 3 empty lists)\n",
    "groups = [  [], [], []   ]\n",
    "groups\n",
    "# to add person 1 to group 1, do groups[0].append ( persons[0] )\n",
    "# to add person 2 to group 2, do groups[1].append ( persons[1] )\n",
    "# to add person 3 to group 3, do groups[2].append ( persons[2] )\n",
    "# get the index (counter) for each person\n",
    "for i in range(0, len(persons)):\n",
    "    groups[ i % 3].append (  persons[i]   )\n",
    "print('group 1: ', groups[0])\n",
    "print('group 2: ', groups[1])\n",
    "print('group 3: ', groups[2])\n"
   ]
  },
  {
   "cell_type": "code",
   "execution_count": 19,
   "metadata": {},
   "outputs": [
    {
     "name": "stdout",
     "output_type": "stream",
     "text": [
      "pretty persons[0]:  Pancy [observer]\n",
      "group 1:  Pancy [observer], Osama [prepped], Mark [prepped], Matthew [prepped], Jing [prepped]\n",
      "group 2:  Mike [observer], Jenna [prepped], Cathy [prepped], Justin [prepped]\n",
      "group 3:  Jenny [observer], Minmo [prepped], Brianna [prepped], Topcu [prepped]\n"
     ]
    }
   ],
   "source": [
    "def pretty(person):\n",
    "    return \"{} [{}]\".format( person['name'], person['experience'] )\n",
    "\n",
    "print('pretty persons[0]: ', pretty(persons[0]))\n",
    "\n",
    "print ('group 1: ',  \", \".join ( [ pretty(person) for person in groups[0]   ]     )   )\n",
    "print ('group 2: ', \", \".join ( [ pretty(person) for person in groups[1]   ]     )   )\n",
    "print ('group 3: ', \", \".join ( [ pretty(person) for person in groups[2]   ]     )   )\n",
    "\n"
   ]
  },
  {
   "cell_type": "code",
   "execution_count": 20,
   "metadata": {},
   "outputs": [
    {
     "data": {
      "text/plain": [
       "'iguana ---- banana ---- kangaroo'"
      ]
     },
     "execution_count": 20,
     "metadata": {},
     "output_type": "execute_result"
    }
   ],
   "source": [
    "\" ---- \".join([  'iguana', 'banana', 'kangaroo' ])"
   ]
  }
 ],
 "metadata": {
  "kernelspec": {
   "display_name": "Python 3",
   "language": "python",
   "name": "python3"
  },
  "language_info": {
   "codemirror_mode": {
    "name": "ipython",
    "version": 3
   },
   "file_extension": ".py",
   "mimetype": "text/x-python",
   "name": "python",
   "nbconvert_exporter": "python",
   "pygments_lexer": "ipython3",
   "version": "3.7.3"
  }
 },
 "nbformat": 4,
 "nbformat_minor": 2
}
