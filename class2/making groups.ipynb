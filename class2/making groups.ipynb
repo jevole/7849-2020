{
 "cells": [
  {
   "cell_type": "code",
   "execution_count": null,
   "metadata": {},
   "outputs": [],
   "source": [
    "# I have a csv with name and experience (pro, prepped and observer)\n",
    "# I want to randomly create 3 groups but spread out the experience \n",
    "# not have all pros in one group"
   ]
  },
  {
   "cell_type": "code",
   "execution_count": 3,
   "metadata": {},
   "outputs": [
    {
     "data": {
      "text/plain": [
       "[{'name': 'Jenna', 'experience': 'prepped'},\n",
       " {'name': 'Minmo', 'experience': 'prepped'},\n",
       " {'name': 'Brianna', 'experience': 'prepped'},\n",
       " {'name': 'Osama', 'experience': 'prepped'},\n",
       " {'name': 'Justin', 'experience': 'prepped'},\n",
       " {'name': 'Topcu', 'experience': 'prepped'},\n",
       " {'name': 'Jing', 'experience': 'prepped'},\n",
       " {'name': 'Gunsu', 'experience': 'prepped'},\n",
       " {'name': 'Mark', 'experience': 'prepped'},\n",
       " {'name': 'Cathy', 'experience': 'prepped'},\n",
       " {'name': 'Mike', 'experience': 'prepped'},\n",
       " {'name': 'Jenny', 'experience': 'observer'}]"
      ]
     },
     "execution_count": 3,
     "metadata": {},
     "output_type": "execute_result"
    }
   ],
   "source": [
    "import csv\n",
    "from random import *\n",
    "\n",
    "# import the file with people and roles\n",
    "with open('name_and_experience.csv') as f:\n",
    "    # create dictionary for each person (key, value pairs), where keys are: name, role (see first line of file)\n",
    "    # and make a list of all persons\n",
    "    persons = [{k: v for k, v in row.items()} for row in csv.DictReader(f, skipinitialspace=True)]\n",
    "# print list    \n",
    "persons"
   ]
  },
  {
   "cell_type": "code",
   "execution_count": 4,
   "metadata": {},
   "outputs": [
    {
     "data": {
      "text/plain": [
       "[{'name': 'Jenna', 'experience': 'prepped', 'random': 805},\n",
       " {'name': 'Minmo', 'experience': 'prepped', 'random': 398},\n",
       " {'name': 'Brianna', 'experience': 'prepped', 'random': 245},\n",
       " {'name': 'Osama', 'experience': 'prepped', 'random': 177},\n",
       " {'name': 'Justin', 'experience': 'prepped', 'random': 129},\n",
       " {'name': 'Topcu', 'experience': 'prepped', 'random': 208},\n",
       " {'name': 'Jing', 'experience': 'prepped', 'random': 586},\n",
       " {'name': 'Gunsu', 'experience': 'prepped', 'random': 379},\n",
       " {'name': 'Mark', 'experience': 'prepped', 'random': 557},\n",
       " {'name': 'Cathy', 'experience': 'prepped', 'random': 362},\n",
       " {'name': 'Mike', 'experience': 'prepped', 'random': 689},\n",
       " {'name': 'Jenny', 'experience': 'observer', 'random': 728}]"
      ]
     },
     "execution_count": 4,
     "metadata": {},
     "output_type": "execute_result"
    }
   ],
   "source": [
    "# add a random number\n",
    "for person in persons:\n",
    "    person['random'] = randint(1, 1000)  \n",
    "# print list    \n",
    "persons"
   ]
  },
  {
   "cell_type": "code",
   "execution_count": null,
   "metadata": {},
   "outputs": [],
   "source": []
  }
 ],
 "metadata": {
  "kernelspec": {
   "display_name": "Python 3",
   "language": "python",
   "name": "python3"
  },
  "language_info": {
   "codemirror_mode": {
    "name": "ipython",
    "version": 3
   },
   "file_extension": ".py",
   "mimetype": "text/x-python",
   "name": "python",
   "nbconvert_exporter": "python",
   "pygments_lexer": "ipython3",
   "version": "3.7.3"
  }
 },
 "nbformat": 4,
 "nbformat_minor": 2
}
