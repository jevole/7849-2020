{
 "cells": [
  {
   "cell_type": "markdown",
   "metadata": {},
   "source": [
    "## Requests"
   ]
  },
  {
   "cell_type": "code",
   "execution_count": 15,
   "metadata": {},
   "outputs": [
    {
     "name": "stdout",
     "output_type": "stream",
     "text": [
      "b'<!DOCTYPE html>\\r\\n<html lang=\"en\" class=\"no-js\">\\r\\n<head>\\r\\n  <script>(function(w,d,s,l,i){w[l]=w[l]||[];w[l].push({\\'gtm.start\\':new Date().getTime(),event:\\'gtm.js\\'});var f=d.getElementsByTagName(s)[0],j=d.createElement(s),dl=l!=\\'dataLayer\\'?\\'&l=\\'+l:\\'\\';j.async=true;j.src=\\'https://www.googletagmanager.com/gtm.js?id=\\'+i+dl;f.parentNode.insertBefore(j,f);})(window,document,\\'script\\',\\'dataLayer\\',\\'GTM-NZ4MS8Q\\');</script>\\r\\n\\t\\r\\n\\t<meta charset=\"utf-8\">\\r\\n\\t<meta name=\"viewport\" content=\"width=device-width,initial-scale=1\">\\r\\n\\t<meta http-equiv=\"X-UA-Compatible\" content=\"IE=edge\" />\\r\\n\\t<title>University of Florida</title>\\r\\n  \\r\\n\\t<link rel=\"stylesheet\" href=\"/media/templates/uf2015/css/style.css\">\\r\\n    <link rel=\"stylesheet\" href=\"/media/wwwufledu/UFL-CSS.css\">\\r\\n\\r\\n    \\r\\n\\t<link rel=\"icon\" href=\"/media/templates/uf2015/img/favicon.ico\" >\\r\\n\\t<link rel=\"apple-touch-icon\" href=\"/media/templates/uf2015/img/favicon-180.png\">\\r\\n\\t<meta name=\"msapplication-TileColor\" content=\"#00529b\">\\r\\n\\t<meta name=\"msapplication-TileImage\" content=\"/media/templates/uf2015/img/favicon-144.png\">\\r\\n  <meta name=\"description\" content=\"The University of Florida &mdash; UF &mdash; is a top-ranked public research university located in Gainesville. Find out how we\\'re solving for next.\" />\\r\\n  <meta name=\"DC.description\" content=\"The University of Florida &mdash; UF &mdash; is a top-ranked public research university located in Gainesville. Find out how we\\'re solving for next.\" />\\r\\n\\t<script>(function(i,s,o,g,r,a,m){i[\\'GoogleAnalyticsObject\\']=r;i[r]=i[r]||function(){(i[r].q=i[r].q||[]).push(arguments)},i[r].l=1*new Date();a=s.createElement(o),m=s.getElementsByTagName(o)[0];a.async=1;a.src=g;m.parentNode.insertBefore(a,m)})(window,document,\\'script\\',\\'//www.google-analytics.com/analytics.js\\',\\'ga\\');ga(\\'create\\', \\'UA-3703196-1\\', \\'auto\\');ga(\\'send\\', \\'pageview\\');</script>\\r\\n\\t\\r\\n</head>\\r\\n\\r\\n<body class=\"loading home\" data-page-layout=\"homepage\">\\r\\n  <noscript><iframe src=\"https://www.googletagmanager.com/ns.html?id=GTM-NZ4MS8Q\" height=\"0\" width=\"0\" style=\"display:none;visibility:hidden\"></iframe></noscript>\\r\\n  <h1 class=\"visuallyhidden\">University of Florida</h1>\\r\\n  <a href=\"#main\" id=\"skip-link\" class=\"visuallyhidden focusable\">Skip to main content</a>\\r\\n  <div class=\"header\">\\r\\n    <a href=\"http://www.ufl.edu/\" class=\"logo\"><img src=\"/media/templates/uf2015/img/logo-uf.svg\" \\r\\n     alt=\"logo-uf\" style=\"width : -1px; height : -1px;     \"\\r\\n    class=\"\" /></a>\\r\\n    \\r\\n    <div class=\"menu-wrap\">\\r\\n      <div class=\"main-menu-wrap\">\\r\\n        \\r\\n      \\t<ul>\\r\\n      \\t<li>\\r\\n  <a href=\"/about/\" class=\"main-menu-link\"><span>About</span> <span class=\"icon-svg icon-caret\"><svg><use xlink:href=\"/media/templates/uf2015/img/spritemap.svg#caret\"></use></svg></span></a>\\r\\n  <div class=\"dropdown\">\\r\\n    <div class=\"col-md-4\">\\r\\n      <img src=\"/media/wwwufledu/images/nav/about.jpg\" alt=\"About Image\" class=\"img-full\">\\r\\n    </div>\\r\\n    <ul>\\n<li><a href=\"/about/administration/\">Administration</a></li>\\n<li><a href=\"/about/maps-directions/\">Maps &amp; Directions</a></li>\\n<li><a href=\"/about/campus-tours/\">Campus Tours</a></li>\\n<li><a href=\"http://publicrecords.ufl.edu/\">Public Records</a></li>\\n</ul>\\r\\n    <ul>\\n<li><a href=\"/about/university-facts/\">University Facts</a></li>\\n<li><a href=\"/about/history/\">History</a></li>\\n<li><a href=\"/about/offices-services/\">Offices &amp; Services</a></li>\\n<li><a href=\"http://www.ufl.edu/about/service-outreach/\">Service &amp; Outreach</a></li>\\n</ul>\\r\\n  </div>\\r\\n</li><li>\\r\\n  <a href=\"/academics/\" class=\"main-menu-link\"><span>Academics</span> <span class=\"icon-svg icon-caret\"><svg><use xlink:href=\"/media/templates/uf2015/img/spritemap.svg#caret\"></use></svg></span></a>\\r\\n  <div class=\"dropdown\">\\r\\n    <div class=\"col-md-4\">\\r\\n      <img src=\"/media/wwwufledu/images/nav/academics.jpg\" alt=\"Academics Image\" class=\"img-full\">\\r\\n    </div>\\r\\n    <ul>\\n<li><a href=\"/academics/colleges/\">Colleges</a></li>\\n<li><a href=\"/academics/programs/\">Programs</a></li>\\n<li><a href=\"/academics/courses/\">Courses</a></li>\\n<li><a href=\"/academics/online-learning/\">Online Learning</a></li>\\n</ul>\\r\\n    <ul>\\n<li><a href=\"https://catalog.ufl.edu/UGRD/\">Catalog</a></li>\\n<li><a href=\"http://pd.dce.ufl.edu/program-finder\">Continuing Education</a></li>\\n<li><a href=\"/academics/libraries/\">Libraries</a></li>\\n<li><a href=\"/academics/resources/\">Resources</a></li>\\n</ul>\\r\\n  </div>\\r\\n</li><li>\\r\\n  <a href=\"/admissions/\" class=\"main-menu-link\"><span>Admissions</span> <span class=\"icon-svg icon-caret\"><svg><use xlink:href=\"/media/templates/uf2015/img/spritemap.svg#caret\"></use></svg></span></a>\\r\\n  <div class=\"dropdown\">\\r\\n    <div class=\"col-md-4\">\\r\\n      <img src=\"/media/wwwufledu/images/nav/admissions.jpg\" alt=\"Admissions Image\" class=\"img-full\">\\r\\n    </div>\\r\\n    <ul>\\n<li><a href=\"https://admissions.ufl.edu/\">Undergraduate</a></li>\\n<li><a href=\"/admissions/graduate/\">Graduate</a></li>\\n<li><a href=\"http://www.admissions.ufl.edu/prospectiveinternational.html\">International</a></li>\\n</ul>\\r\\n    <ul>\\n<li><a href=\"http://www.ufl.edu/academics/online-learning/\">Online Learning</a></li>\\n<li><a href=\"/admissions/professional/\">Professional</a></li>\\n<li><a href=\"http://www.sfa.ufl.edu/\">Financial Aid</a></li>\\n</ul>\\r\\n  </div>\\r\\n</li><li>\\r\\n  <a href=\"/student-life/\" class=\"main-menu-link\"><span>Student Life</span> <span class=\"icon-svg icon-caret\"><svg><use xlink:href=\"/media/templates/uf2015/img/spritemap.svg#caret\"></use></svg></span></a>\\r\\n  <div class=\"dropdown\">\\r\\n    <div class=\"col-md-4\">\\r\\n      <img src=\"/media/wwwufledu/images/nav/campuslife.jpg\" alt=\"Student Life Image\" class=\"img-full\">\\r\\n    </div>\\r\\n    <ul>\\n<li><a href=\"/student-life/arts/\">Arts</a></li>\\n<li><a href=\"/student-life/recreation-fitness/\">Recreation &amp; Fitness</a></li>\\n<li><a href=\"/student-life/cultural-opportunities/\">Cultural Opportunities</a></li>\\n<li><a href=\"/student-life/involvement/\">Involvement</a></li>\\n</ul>\\r\\n    <ul>\\n<li><a href=\"/student-life/health-safety/\">Health &amp; Safety</a></li>\\n<li><a href=\"/student-life/career-exploration/\">Career Exploration</a></li>\\n<li><a href=\"/student-life/housing/\">Housing</a></li>\\n<li><a href=\"/student-life/success-services/\">Success Services</a></li>\\n</ul>\\r\\n  </div>\\r\\n</li><li>\\r\\n  <a href=\"/research/\" class=\"main-menu-link\"><span>Research</span> <span class=\"icon-svg icon-caret\"><svg><use xlink:href=\"/media/templates/uf2015/img/spritemap.svg#caret\"></use></svg></span></a>\\r\\n  <div class=\"dropdown\">\\r\\n    <div class=\"col-md-4\">\\r\\n      <img src=\"/media/wwwufledu/images/nav/research.jpg\" alt=\"Research Image\" class=\"img-full\">\\r\\n    </div>\\r\\n    <ul>\\n<li><a href=\"/research/centers-institutes/\">Centers &amp; Institutes</a></li>\\n<li><a title=\"Office of Research\" href=\"http://research.ufl.edu/\">Office of Research</a></li>\\n</ul>\\r\\n    <ul>\\n<li><a href=\"/research/uf-innovate--tech-licensing/\">Technology Licensing</a></li>\\n<li><a href=\"http://research.ufl.edu/faculty-and-staff/finding-funding.html\">Research Funding</a></li>\\n</ul>\\r\\n  </div>\\r\\n</li><li>\\r\\n  <a href=\"/athletics/\" class=\"main-menu-link\"><span>Athletics</span> <span class=\"icon-svg icon-caret\"><svg><use xlink:href=\"/media/templates/uf2015/img/spritemap.svg#caret\"></use></svg></span></a>\\r\\n  <div class=\"dropdown\">\\r\\n    <div class=\"col-md-4\">\\r\\n      <img src=\"/media/wwwufledu/images/nav/althletics.jpg\" alt=\"Athletics Image\" class=\"img-full\">\\r\\n    </div>\\r\\n    <ul>\\n<li><a href=\"http://www.floridagators.com\">Florida Gators</a></li>\\n<li><a href=\"http://floridagators.com/calendar.aspx\">Schedule</a></li>\\n</ul>\\r\\n    <ul>\\n<li><a href=\"http://floridagators.com/sports/2015/12/10/_tickets_.aspx\">Tickets</a></li>\\n<li><a href=\"http://floridagators.com/facilities/\">Facilities</a></li>\\n</ul>\\r\\n  </div>\\r\\n</li><li>\\r\\n  <a href=\"/alumni/\" class=\"main-menu-link\"><span>Alumni</span> <span class=\"icon-svg icon-caret\"><svg><use xlink:href=\"/media/templates/uf2015/img/spritemap.svg#caret\"></use></svg></span></a>\\r\\n  <div class=\"dropdown\">\\r\\n    <div class=\"col-md-4\">\\r\\n      <img src=\"/media/wwwufledu/images/nav/alumni.jpg\" alt=\"Alumni Image\" class=\"img-full\">\\r\\n    </div>\\r\\n    <ul>\\n<li><a href=\"http://www.ufalumni.ufl.edu\">Alumni Association</a></li>\\n<li><a href=\"http://connect.ufalumni.ufl.edu/network/gatorclubs\">Gator Clubs\\xc2\\xae</a></li>\\n<li><a href=\"http://connect.ufalumni.ufl.edu/membership/join-the-ufaa\">Membership</a></li>\\n<li><a href=\"http://connect.ufalumni.ufl.edu/events/signature-events\">Reunions</a></li>\\n</ul>\\r\\n    <ul>\\n<li><a href=\"https://www.uff.ufl.edu/\">Alumni Giving</a></li>\\n<li><a href=\"/about/maps-directions/\">Maps &amp; Directions</a></li>\\n<li><a href=\"http://virtualtour.ufl.edu/\">Virtual Tour</a></li>\\n</ul>\\r\\n  </div>\\r\\n</li>\\r\\n        </ul>\\r\\n      </div>\\r\\n      <div class=\"aux-menu-wrap\">\\r\\n          <ul class=\"aux-nav\">\\n<li><a href=\"http://news.ufl.edu\">News</a></li>\\n<li><a href=\"http://calendar.ufl.edu\">Calendar</a></li>\\n<li><a href=\"/about/offices-services/\">Offices &amp; Services</a></li>\\n<li><a href=\"https://directory.ufl.edu\">Directory</a></li>\\n<li><a href=\"http://uff.ufl.edu/Giving/WhyGive.asp\">Giving</a></li>\\n<li><a href=\"http://ufhealth.org\">UF Health</a></li>\\n<li><a href=\"http://ifas.ufl.edu\">UF/IFAS</a></li>\\n<li><a href=\"http://assistive.usablenet.com/tt/referrer\">Text-only</a></li>\\n</ul>\\r\\n          <div class=\"audience-nav-wrap\"><a href=\"#\" class=\"cur-audience\">Welcome to UF</a><span class=\"arw-right icon-svg\"><svg><use xlink:href=\"/media/templates/uf2015/img/spritemap.svg#arw-down\"></use></svg></span><ul>\\n<li><a href=\"/students/\">Current Students</a></li>\\n<li><a href=\"/visitors/\">Family &amp; Visitors</a></li>\\n<li><a href=\"/staff/\">Faculty &amp; Staff</a></li>\\n</ul></div>\\r\\n      </div>\\r\\n      <a href=\"#\" class=\"btn-show-aux\">\\r\\n              <span class=\"icon-svg icon-menu\">\\r\\n              <svg>\\r\\n              <use xlink:href=\"/media/templates/uf2015/img/spritemap.svg#menu\"></use>\\r\\n              </svg>\\r\\n          </span>\\r\\n              <span class=\"icon-svg icon-close\">\\r\\n              <svg>\\r\\n              <use xlink:href=\"/media/templates/uf2015/img/spritemap.svg#close\"></use>\\r\\n              </svg>\\r\\n          </span>\\r\\n        </a>\\r\\n      <form action=\"https://search.ufl.edu/search\" method=\"get\" class=\"search-wrap\">\\r\\n          <input type=\"hidden\" name=\"source\" value=\"web\">\\r\\n        \\t\\r\\n          <label for=\"query_desktop\" class=\"visuallyhidden\">Search UF</label>\\r\\n          <input type=\"text\" id=\"query_desktop\" name=\"query\">\\r\\n          <label for=\"submit_desktop\" class=\"visuallyhidden\">Submit</label>\\r\\n          <button type=\"submit\" id=\"submit_desktop\" name=\"submit\" class=\"btn-search\">\\r\\n              <span class=\"icon-svg\">\\r\\n              <svg>\\r\\n                  <use xlink:href=\"/media/templates/uf2015/img/spritemap.svg#search\"></use>\\r\\n              </svg>\\r\\n            </span>\\r\\n          </button>\\r\\n        </form>\\r\\n    </div>\\r\\n  \\r\\n    <div class=\"mobile-dropdown-wrap\"></div>\\r\\n\\t\\r\\n      <form action=\"https://search.ufl.edu/search\" method=\"get\" class=\"search-wrap mobile\">\\r\\n          <input type=\"hidden\" name=\"source\" value=\"web\">\\r\\n          \\r\\n          <label for=\"query_mobile\" class=\"visuallyhidden\">Search UF</label>\\r\\n          <input type=\"text\" id=\"query_mobile\" name=\"query\">\\r\\n          <label for=\"submit_mobile\" class=\"visuallyhidden\">Submit</label>\\r\\n      <button type=\"submit\" id=\"submit_mobile\" class=\"btn-search\">\\r\\n          <span class=\"icon-svg\">\\r\\n          <svg>\\r\\n              <use xlink:href=\"/media/templates/uf2015/img/spritemap.svg#search\"></use>\\r\\n          </svg>\\r\\n        </span>\\r\\n      </button>\\r\\n    </form>\\r\\n  \\r\\n    <a href=\"#\" class=\"btn-menu\">\\r\\n          <span class=\"icon-svg icon-menu\">\\r\\n          <svg>\\r\\n          <use xlink:href=\"/media/templates/uf2015/img/spritemap.svg#menu\"></use>\\r\\n          </svg>\\r\\n      </span>\\r\\n          <span class=\"icon-svg icon-close\">\\r\\n          <svg>\\r\\n          <use xlink:href=\"/media/templates/uf2015/img/spritemap.svg#close\"></use>\\r\\n          </svg>\\r\\n      </span>\\r\\n    </a>\\r\\n  </div>\\r\\n  \\r\\n  <div id=\"main\">\\r\\n    <div class=\"home-section\">\\r\\n      <div class=\"homepage-wrapper\"><div class=\"featured-story-wrap\">\\r\\n\\t<div class=\"featured-story-img-wrap\">\\r\\n\\t\\t<div class=\"featured-story-img\" style=\"background-image:url(/media/newsufledu/images/2019/12/SeaRescue_Banner.jpg)\"></div>\\r\\n<div class=\"featured-story-img\" style=\"background-image:url(/media/newsufledu/images/2019/12/Orange_Bowl_Hero.jpg)\"></div>\\r\\n<div class=\"featured-story-img\" style=\"background-image:url(/media/newsufledu/images/2019/12/GloZell_Banner_edited.jpg)\"></div>\\r\\n\\r\\n\\t</div>\\r\\n</div>\\r\\n<div class=\"homepage-stat-wrap\">\\r\\n\\t<div class=\"container\">\\r\\n\\t\\t<div class=\"row\">\\r\\n\\t\\t\\t<div class=\"col-sm-12\">\\r\\n\\t\\t\\t\\t<div class=\"featured-story-content-wrap-wrap\">\\r\\n\\t\\t\\t\\t\\t<div class=\"featured-story-content-wrap col-md-6 col-md-offset-1\">\\r\\n\\t\\t\\t\\t\\t\\t<div class=\"featured-story article-739916\">\\r\\n\\t<h2>UF to the rescue </h2><a href=\"https://news.ufl.edu/2019/12/uf-to-the-rescue/\" class=\"read-more\" aria-label=\"UF to the rescue\">Read more</a>\\r\\n\\r\\n\\t<!--\\r\\n\\t<h2>UF to the rescue </h2> <a href=\"/articles/2020/01/uf-to-the-rescue.html\" class=\"read-more\" aria-label=\"UF to the rescue\">Read more</a>\\r\\n\\t-->\\r\\n  \\r\\n\\t<!--\\r\\n    <div class=\"category-tag\"></div>\\r\\n    -->\\r\\n    <div class=\"category-tag\">Vet Med</div>\\r\\n</div><div class=\"featured-story article-730105\">\\r\\n\\t<h2>Orange Bowl champs </h2><a href=\"https://floridagators.com/news/2019/12/31/football-11th-heaven-florida-bests-virginia-in-orange-bowl.aspx\" class=\"read-more\" aria-label=\"Orange Bowl champs\">Read more</a>\\r\\n\\r\\n\\t<!--\\r\\n\\t<h2>Orange Bowl champs </h2> <a href=\"/articles/2019/12/orange-bowl-academics.html\" class=\"read-more\" aria-label=\"Orange Bowl champs\">Read more</a>\\r\\n\\t-->\\r\\n  \\r\\n\\t<!--\\r\\n    <div class=\"category-tag\"></div>\\r\\n    -->\\r\\n    <div class=\"category-tag\">Top 10 matchup</div>\\r\\n</div><div class=\"featured-story article-713384\">\\r\\n\\t<h2>Glozell Green, comedy queen </h2><a href=\"https://www.uff.ufl.edu/ufalumni/glozell-green-comedy-queen/\" class=\"read-more\" aria-label=\"Glozell Green, comedy queen\">Read more</a>\\r\\n\\r\\n\\t<!--\\r\\n\\t<h2>Glozell Green, comedy queen </h2> <a href=\"/articles/2019/12/glozell.html\" class=\"read-more\" aria-label=\"Glozell Green, comedy queen\">Read more</a>\\r\\n\\t-->\\r\\n  \\r\\n\\t<!--\\r\\n    <div class=\"category-tag\"></div>\\r\\n    -->\\r\\n    <div class=\"category-tag\">Gator greats</div>\\r\\n</div>\\r\\n\\t\\t\\t\\t\\t</div>\\r\\n\\t\\t\\t\\t</div>\\r\\n\\r\\n\\t\\t\\t\\t<div class=\"stat-wrap one in-right randomized\" data-position=\"one\">\\r\\n\\t\\t\\t\\t\\t<div class=\"stat\">\\r\\n  <h2>61</h2>\\r\\n</div>\\r\\n<div class=\"info\">\\r\\n  <div class=\"info-copy\">\\r\\n    <p>61% of UF undergraduate students graduate with no student loan debt.</p>\\r\\n  </div>\\r\\n</div>\\r\\n\\t\\t\\t\\t</div>\\r\\n\\t\\t\\t\\t<div class=\"big-stat-wrap one big-stat-img gradient-bg content-716066\" style=\"background-image: url(/media/newsufledu/images/2019/12/Fuchs_S8A5165.jpg)\" >\\r\\n\\t<div class=\"big-stat-copy\">\\r\\n\\r\\n          <a href=\"https://news.ufl.edu/2019/12/saturday-commencement/\">\\r\\n          <!--\\r\\n          <a href=\"/articles/2019/11/president-fuchs-speech-for-saturday-commencement.html\">\\r\\n          -->                \\r\\n          <h2>President Fuchs\\' speech for Saturday commencement</h2>\\r\\n\\r\\n          <!--\\r\\n          \\r\\n          -->\\r\\n          \\r\\n          <span class=\"read-more\">Read more</span>\\r\\n        </a>\\r\\n\\t</div>\\r\\n\\t<!--\\r\\n    <div class=\"category-tag\"></div>\\r\\n    -->\\r\\n    <div class=\"category-tag\">Graduation 2019</div>\\r\\n</div>\\r\\n\\t\\t\\t\\t<div class=\"stat-wrap two in-bottom randomized\" data-position=\"two\">\\r\\n\\t\\t\\t\\t\\t<div class=\"stat\">\\r\\n  <h2>34</h2>\\r\\n</div>\\r\\n<div class=\"info\">\\r\\n  <div class=\"info-copy\">\\r\\n    <p>Number of academic departments at UF that offer at least one sustainability-focused or related course.</p>\\r\\n  </div>\\r\\n</div>\\r\\n\\t\\t\\t\\t</div>\\r\\n\\t\\t\\t\\t<div class=\"big-stat-wrap two big-stat-img gradient-bg content-716125\" style=\"background-image: url(/media/newsufledu/images/2019/12/Hernandez-Truyol-_S8A4859.jpg)\" >\\r\\n\\t<div class=\"big-stat-copy\">\\r\\n\\r\\n          <a href=\"https://news.ufl.edu/2019/12/friday-commencement/\">\\r\\n          <!--\\r\\n          <a href=\"/articles/2019/11/friday-speech.html\">\\r\\n          -->                \\r\\n          <h2>UF faculty member Berta Esperanza Hernandez-Truyol\\xe2\\x80\\x99s speech for Friday\\xe2\\x80\\x99s doctoral ceremony</h2>\\r\\n\\r\\n          <!--\\r\\n          \\r\\n          -->\\r\\n          \\r\\n          <span class=\"read-more\">Read more</span>\\r\\n        </a>\\r\\n\\t</div>\\r\\n\\t<!--\\r\\n    <div class=\"category-tag\"></div>\\r\\n    -->\\r\\n    <div class=\"category-tag\">Graduation 2019</div>\\r\\n</div>\\r\\n\\t\\t\\t\\t<div class=\"big-stat-wrap three big-stat-img gradient-bg content-684630\" style=\"background-image: url(/media/newsufledu/images/2019/11/191118_dso_pantrystock_0298.JPG)\" >\\r\\n\\t<div class=\"big-stat-copy\">\\r\\n\\r\\n          <a href=\"https://news.ufl.edu/2019/11/field-and-fork-expansion/\">\\r\\n          <!--\\r\\n          <a href=\"/articles/2019/11/pantry.html\">\\r\\n          -->                \\r\\n          <h2>UF expands Alan and Cathy Hitchcock Field & Fork Pantry</h2>\\r\\n\\r\\n          <!--\\r\\n          <p>\"It\\xe2\\x80\\x99s such a welcoming environment that truly releases the anxiety that someone experiencing food insecurity has.\\xe2\\x80\\x9d</p>\\r\\n          -->\\r\\n          \\r\\n          <span class=\"read-more\">Read more</span>\\r\\n        </a>\\r\\n\\t</div>\\r\\n\\t\\r\\n    <div class=\"category-tag\">Campus Life</div>\\r\\n    \\r\\n    \\r\\n</div>\\r\\n\\t\\t\\t\\t<div class=\"big-stat-wrap four big-stat-img gradient-bg content-712384\" style=\"background-image: url(/media/newsufledu/images/2019/12/Sandvoal_headshot.jpg)\" >\\r\\n\\t<div class=\"big-stat-copy\">\\r\\n\\r\\n          <a href=\"https://news.ufl.edu/2019/12/marshall-scholar/\">\\r\\n          <!--\\r\\n          <a href=\"/articles/2019/12/marshall-scholar.html\">\\r\\n          -->                \\r\\n          <h2>UF senior selected for prestigious Marshall Scholarship</h2>\\r\\n\\r\\n          <!--\\r\\n          \\r\\n          -->\\r\\n          \\r\\n          <span class=\"read-more\">Read more</span>\\r\\n        </a>\\r\\n\\t</div>\\r\\n\\t<!--\\r\\n    <div class=\"category-tag\"></div>\\r\\n    -->\\r\\n    <div class=\"category-tag\">Student honors</div>\\r\\n</div>\\r\\n\\t\\t\\t</div>\\r\\n\\t\\t</div>\\r\\n\\t</div>\\r\\n</div><div class=\"breaker\" style=\"background-image: url(/media/wwwufledu/images/bg-breaker.jpg);\" data-content=\"354081\">\\r\\n\\t<div class=\"container\">\\r\\n\\t\\t<div class=\"row\">\\r\\n\\t\\t\\t<div class=\"col-sm-8 col-sm-offset-2\">\\r\\n            \\t\\r\\n\\t\\t\\t\\t<h2>WANT TO BE A GATOR?</h2>\\r\\n\\t\\t\\t\\t<p>Whatever you\\xe2\\x80\\x99ve got your sights set on, that\\xe2\\x80\\x99s merely the beginning. As a Gator you\\xe2\\x80\\x99ll learn to see beyond the horizon. We measure success not in individual achievement, but where you go from there. Because when reaching your goals is just the starting point, there\\xe2\\x80\\x99s no end to what Gators can accomplish.</p>\\r\\n\\t\\t\\t\\t<p><a href=\"http://www.admissions.ufl.edu/apply/freshman/ \" class=\"btn btn--white\" aria-label=\"WANT TO BE A GATOR?\">Learn More <span class=\"arw-right icon-svg\"><svg><use xmlns:xlink=\"http://www.w3.org/1999/xlink\" xlink:href=\"/media/templates/uf2015/img/spritemap.svg#arw-right\"></use></svg></span></a></p>\\r\\n\\t\\t\\t</div>\\r\\n\\t\\t</div>\\r\\n\\t</div>\\r\\n</div><div class=\"feature-bio-wrap hor-scroll-wrap\" id=\"bio_257698\" data-bio-affiliation=\"all\">\\r\\n\\t<div class=\"container\">\\r\\n\\t\\t<div class=\"feature-bios\">\\r\\n\\t\\t\\t<div class=\"bio-wrap\">\\r\\n\\t\\t\\t\\t<div class=\"bio hor-scroll-el\">\\r\\n\\t\\t\\t\\t\\t<div class=\"bio-img\" style=\"background-image: url();\"></div>\\r\\n\\t\\t\\t\\t\\t<div class=\"copy-wrap\">\\r\\n\\t\\t\\t\\t\\t\\t<h2></h2>\\r\\n\\t\\t\\t\\t\\t\\t<h3></h3>\\r\\n\\t\\t\\t\\t\\t\\t<p></p>\\r\\n\\t\\t\\t\\t\\t\\t<span class=\"category-tag orange\"></span>\\r\\n\\t\\t\\t\\t\\t\\t<span class=\"btn-circle arw-right icon-svg\"><svg><use xlink:href=\"/media/templates/uf2015/img/spritemap.svg#arw-right\"></use></svg></span>\\r\\n\\t\\t\\t\\t\\t</div>\\r\\n\\t\\t\\t\\t</div>\\r\\n\\t\\t\\t\\t<div class=\"bio hor-scroll-el\">\\r\\n\\t\\t\\t\\t\\t<div class=\"bio-img\" style=\"background-image: url();\"></div>\\r\\n\\t\\t\\t\\t\\t<div class=\"copy-wrap\">\\r\\n\\t\\t\\t\\t\\t    <h2></h2>\\r\\n\\t\\t\\t\\t\\t    <h3></h3>\\r\\n\\t\\t\\t\\t\\t    <p></p>\\r\\n\\t\\t\\t\\t\\t    <span class=\"category-tag orange\"></span>\\r\\n\\t\\t\\t\\t\\t    <span class=\"btn-circle arw-right icon-svg\"><svg><use xlink:href=\"/media/templates/uf2015/img/spritemap.svg#arw-right\"></use></svg></span>\\r\\n\\t\\t\\t\\t\\t</div>\\r\\n\\t\\t\\t\\t</div>\\r\\n\\t\\t\\t\\t<div class=\"bio hor-scroll-el\">\\r\\n\\t\\t\\t\\t\\t<div class=\"bio-img\" style=\"background-image: url();\"></div>\\r\\n\\t\\t\\t\\t\\t<div class=\"copy-wrap\">\\r\\n\\t\\t\\t\\t\\t    <h2></h2>\\r\\n\\t\\t\\t\\t\\t    <h3></h3>\\r\\n\\t\\t\\t\\t\\t    <p></p>\\r\\n\\t\\t\\t\\t\\t    <span class=\"category-tag orange\"></span>\\r\\n\\t\\t\\t\\t\\t    <span class=\"btn-circle arw-right icon-svg\"><svg><use xlink:href=\"/media/templates/uf2015/img/spritemap.svg#arw-right\"></use></svg></span>\\r\\n\\t\\t\\t\\t\\t</div>\\r\\n\\t\\t\\t\\t</div>\\r\\n\\t\\t\\t</div>\\r\\n\\t\\t\\t<div class=\"feature-bio-copy-wrap\">\\r\\n\\t\\t\\t\\t<h2></h2>\\r\\n\\t\\t\\t\\t<h3></h3>\\r\\n\\t\\t\\t\\t<p></p>\\r\\n\\t\\t\\t\\t<span class=\"category-tag orange\"></span>\\r\\n\\t\\t\\t\\t<span class=\"btn-circle arw-right icon-svg\"><svg><use xlink:href=\"/media/templates/uf2015/img/spritemap.svg#arw-right\"></use></svg></span>\\r\\n\\t\\t\\t</div>\\r\\n\\t\\t</div>\\r\\n\\t</div>\\r\\n</div><!-- /workplace-domain-verification.html -->              <div class=\"footer-wrap\">\\r\\n              \\r\\n                  <div class=\"footer-top\">\\r\\n  <div class=\"container\">\\r\\n    <div class=\"row\">\\r\\n      <div class=\"col-sm-12\">\\r\\n        <ul class=\"footer-audience-nav\">\\r\\n          <li><a href=\"http://admissions.ufl.edu/\">Apply</a></li>\\r\\n          <li><a href=\"http://virtualtour.ufl.edu/\">Visit</a></li>\\r\\n          <li><a href=\"https://jobs.ufl.edu/\">Jobs</a></li>\\r\\n          <li><a href=\"http://questions.ufl.edu/\">Ask UF</a></li>\\r\\n        </ul>\\r\\n      </div>\\r\\n    </div>\\r\\n  </div>\\r\\n</div>\\r\\n              \\r\\n                  <div class=\"footer-bottom\">\\r\\n                      <div class=\"container\">\\r\\n                          <div class=\"row\">\\r\\n              \\r\\n                              <div class=\"col-md-4 col-md-push-8 footer-contact-wrap\">\\r\\n                                <a href=\"http://www.ufl.edu\" class=\"footer-logo icon-svg\"><svg><use xlink:href=\"/media/templates/uf2015/img/spritemap.svg#florida-logo-full\"></use></svg><span class=\"visuallyhidden\">University of Florida</span></a>\\r\\n                                  <ul class=\"social-nav\">\\r\\n  <li><a href=\"http://www.facebook.com/uflorida/\" class=\"btn-circle icon-svg icon-facebook\"><svg><use xmlns:xlink=\"http://www.w3.org/1999/xlink\" xlink:href=\"/media/templates/uf2015/img/spritemap.svg#facebook\"></use></svg><span class=\"visuallyhidden\">Facebook</span></a></li>\\r\\n  <li><a href=\"https://twitter.com/UF/\" class=\"btn-circle icon-svg icon-twitter\"><svg><use xmlns:xlink=\"http://www.w3.org/1999/xlink\" xlink:href=\"/media/templates/uf2015/img/spritemap.svg#twitter\"></use></svg><span class=\"visuallyhidden\">Twitter</span></a></li>\\r\\n  <li><a href=\"https://instagram.com/uflorida/\" class=\"btn-circle icon-svg icon-instagram\"><svg><use xmlns:xlink=\"http://www.w3.org/1999/xlink\" xlink:href=\"/media/templates/uf2015/img/spritemap.svg#instagram\"></use></svg><span class=\"visuallyhidden\">Instagram</span></a></li>\\r\\n  <li><a href=\"http://www.youtube.com/user/universityofflorida/\" class=\"btn-circle icon-svg icon-youtube\"><svg><use xmlns:xlink=\"http://www.w3.org/1999/xlink\" xlink:href=\"/media/templates/uf2015/img/spritemap.svg#youtube\"></use></svg><span class=\"visuallyhidden\">YouTube</span></a></li>\\r\\n</ul>\\r\\n                                  <p class=\"address\">University of Florida<br>Gainesville, FL 32611<br><span class=\"ufoperator\">UF Operator: (352) 392-3261</span><br><a href=\"//assistive.usablenet.com/tt/referrer\">Website text-only version</a></p>\\r\\n                                  <hr style=\"margin: 20px 0;\">\\n<div class=\"public-records-contact\">\\n<div><strong>UF Public Records</strong></div>\\n<div><a href=\"http://publicrecords.ufl.edu/\" target=\"_blank\">http://publicrecords.ufl.edu/</a></div>\\n<div>Contact: John Hines</div>\\n<div>Records Custodian (FS 119.12)</div>\\n<div>Email: <a href=\"mailto:pr-request@ufl.edu\" target=\"_blank\">pr-request@ufl.edu</a></div>\\n</div>\\r\\n                              </div>\\r\\n              \\r\\n                              <div class=\"col-md-8 col-md-pull-4\">\\r\\n  <div class=\"row\">\\r\\n    <div class=\"col-md-4 col-sm-4 footer-menu\">\\r\\n      <h2>Resources <span class=\"icon-svg icon-caret\"><svg><use xmlns:xlink=\"http://www.w3.org/1999/xlink\" xlink:href=\"/media/templates/uf2015/img/spritemap.svg#caret\"></use></svg></span></h2>\\r\\n      <ul>\\n<li><a href=\"https://one.uf.edu/\">ONE.UF</a></li>\\n<li><a href=\"https://webmail.ufl.edu/\">Webmail</a></li>\\n<li><a href=\"https://my.ufl.edu/ps/signon.html\">myUFL</a></li>\\n<li><a href=\"https://lss.at.ufl.edu/\">e-Learning</a></li>\\n<li><a href=\"https://directory.ufl.edu/\">Directory</a></li>\\n</ul>\\r\\n    </div>\\r\\n    <div class=\"col-md-4 col-sm-4 footer-menu\">\\r\\n      <h2>Campus <span class=\"icon-svg icon-caret\"><svg><use xmlns:xlink=\"http://www.w3.org/1999/xlink\" xlink:href=\"/media/templates/uf2015/img/spritemap.svg#caret\"></use></svg></span></h2>\\r\\n      <ul>\\n<li><a href=\"http://ufweather.org/\">Weather</a></li>\\n<li><a href=\"http://campusmap.ufl.edu/\">Campus Map</a></li>\\n<li><a href=\"http://virtualtour.ufl.edu/\">Student Tours</a></li>\\n<li><a href=\"https://catalog.ufl.edu/ugrad/current/Pages/dates-and-deadlines.aspx\">Academic Calendar</a></li>\\n<li><a href=\"http://calendar.ufl.edu/\">Events</a></li>\\n<li><a href=\"http://statements.ufl.edu\">Statements</a></li>\\n</ul>\\r\\n    </div>\\r\\n    <div class=\"col-md-4 col-sm-4 footer-menu\">\\r\\n      <h2>Website <span class=\"icon-svg icon-caret\"><svg><use xmlns:xlink=\"http://www.w3.org/1999/xlink\" xlink:href=\"/media/templates/uf2015/img/spritemap.svg#caret\"></use></svg></span></h2>\\r\\n      <ul>\\n<li><a href=\"/websites/\">Website Listing</a></li>\\n<li><a href=\"http://accessibility.ufl.edu/\">Accessibility</a></li>\\n<li><a href=\"http://privacy.ufl.edu/privacystatement.html\">Privacy Policy</a></li>\\n<li><a href=\"http://regulations.ufl.edu/\">Regulations</a></li>\\n</ul>\\r\\n    </div>\\r\\n  </div>\\r\\n</div>\\r\\n              \\r\\n                          </div>\\r\\n                      </div>\\r\\n                  </div>\\r\\n              \\r\\n              </div>\\r\\n\\t\\t\\t</div>\\r\\n\\t\\t</div>\\r\\n\\t</div>\\r\\n  <script>\\r\\nvar statsjson = \\'/stats/index.json\\';\\r\\nvar biosjson = \\'/biographies/index.json\\';\\r\\n</script>\\r\\n  <script src=\"//ajax.googleapis.com/ajax/libs/jquery/1.11.2/jquery.min.js\"></script>\\r\\n  <script src=\"https://cdnjs.cloudflare.com/ajax/libs/velocity/1.2.2/velocity.min.js\"></script>\\r\\n  <script src=\"https://cdnjs.cloudflare.com/ajax/libs/velocity/1.2.2/velocity.ui.min.js\"></script>\\r\\n  <script type=\"text/javascript\" src=\"/media/templates/uf2015/js/plugins.js\"></script>\\r\\n  <script type=\"text/javascript\" src=\"/media/templates/uf2015/js/scripts.js\"></script>\\r\\n  \\r\\n\\r\\n  \\r\\n<script>\\r\\n$(document).ready(function() {\\r\\n\\r\\n\\r\\n});\\r\\n</script>\\r\\n<script>\\n$(document).ready(function() {\\n\\tdisplayUFAlert();\\n\\n\\t$(\\'a\\').click(function() {\\n\\t\\tvar href = $(this).attr(\\'href\\');\\n\\t\\tif (href.match(/^http/) && !href.match(document.domain)) {\\n\\t\\t\\tga(\\'send\\', \\'event\\', \\'Outbound Links\\', \\'Click\\', href);\\n\\t\\t}\\n\\t\\tif (href.match(/\\\\.(doc|docx|pdf|ppt|pptx|xls|xlsx|zip)$/)) {\\n\\t\\t\\tga(\\'send\\', \\'event\\', \\'Downloads\\', \\'Click\\', href);\\n\\t\\t}\\n\\t});\\n\\t$(\\'.aux-nav a\\').click(function() {\\n\\t\\tga(\\'send\\', \\'event\\', \\'Auxiliary Navigation\\', \\'Click\\', $(this).attr(\\'href\\'));\\n\\t});\\n\\t$(\\'.main-menu-wrap a\\').click(function() {\\n\\t\\tga(\\'send\\', \\'event\\', \\'Primary Navigation\\', \\'Click\\', $(this).attr(\\'href\\'));\\n\\t});\\n\\t$(\\'.featured-story a.read-more\\').click(function() {\\n\\t\\tga(\\'send\\', \\'event\\', \\'Featured Story\\', \\'Click\\', $(this).attr(\\'href\\'));\\n\\t});\\n\\t$(\\'.big-stat-wrap h2 a\\').click(function() {\\n\\t\\tga(\\'send\\', \\'event\\', \\'Secondary Story\\', \\'Click\\', $(this).attr(\\'href\\'));\\n\\t});\\n\\t$(\\'.footer-menu a\\').click(function() {\\n\\t\\tga(\\'send\\', \\'event\\', \\'Footer Menu\\', \\'Click\\', $(this).attr(\\'href\\'));\\n\\t});\\n\\t$(\\'.home .featured-story.article-271180 .category-tag\\').text(\\'Inauguration\\');\\n\\t$(\\'.home .big-stat-wrap.content-271968 .category-tag\\').text(\\'Commencement\\');\\n\\n\\t$(\\'a\\').each(function(){ \\n\\t\\tvar link_text = $(this).text().toUpperCase().trim();\\n\\t\\tif ( link_text == \\'LEARN MORE\\' || link_text == \\'READ MORE\\'){\\n\\t\\t\\t$(this).addClass(\\'read-more\\');\\n\\t\\t\\tif ($(this).attr(\\'aria-label\\') == undefined){\\n\\t\\t\\t\\tvar label = $(this).closest(\\'div\\').children(\\':header\\')[0].textContent;\\n\\t\\t\\t\\t$(this).attr(\\'aria-label\\', label);\\n\\t\\t\\t}\\n\\t    }\\n\\t});\\n\\n});\\n</script>\\n\\n<style>\\n.embed-responsive {\\n    position: relative;\\n    display: block;\\n    height: 0;\\n    padding: 0;\\n    overflow: hidden;\\n}\\n.embed-responsive .embed-responsive-item, .embed-responsive iframe, .embed-responsive embed, .embed-responsive object, .embed-responsive video {\\n    position: absolute;\\n    top: 0;\\n    left: 0;\\n    bottom: 0;\\n    height: 100%;\\n    width: 100%;\\n    border: 0;\\n}\\n.embed-responsive.embed-responsive-16by9 {\\n    padding-bottom: 56.25%}\\n.embed-responsive.embed-responsive-4by3 {\\n    padding-bottom: 75%}\\nspan.ufoperator { font-weight: bold; }\\n</style>\\n\\n<!-- Host: 128.227.74.198 -->\\n<!-- 11e06c425fe89aaad9f91d050f0d192a5e5c4946 -->\\r\\n\\r\\n\\r\\n</body>\\r\\n</html>'\n"
     ]
    }
   ],
   "source": [
    "# simple web crawling, use 'requests'\n",
    "# first import it (it is installed, but not loaded by default)\n",
    "import requests\n",
    "response = requests.get(\"http://www.ufl.edu\")\n",
    "print (response.content)"
   ]
  },
  {
   "cell_type": "markdown",
   "metadata": {},
   "source": [
    "## Selenium"
   ]
  },
  {
   "cell_type": "code",
   "execution_count": null,
   "metadata": {
    "collapsed": true
   },
   "outputs": [],
   "source": [
    "# Preparation: install Selenium, download Chrome driver\n",
    "# ------------------------------------------------------\n",
    "# Install selenium\n",
    "# pip install selenium\n",
    "# Chrome driver download page\n",
    "# https://sites.google.com/a/chromium.org/chromedriver/downloads\n",
    "# unzip and place chromedriver.exe in the same folder as the .ipynb file"
   ]
  },
  {
   "cell_type": "code",
   "execution_count": 1,
   "metadata": {},
   "outputs": [],
   "source": [
    "import time\n",
    "from selenium import webdriver\n",
    "\n",
    "# without setting a path variable, need to point to where chrome driver is on disk\n",
    "driver = webdriver.Chrome(r'chromedriver.exe')"
   ]
  },
  {
   "cell_type": "code",
   "execution_count": 2,
   "metadata": {},
   "outputs": [],
   "source": [
    "# Navigate to some page\n",
    "driver.get(\"http://www.ufl.edu\") "
   ]
  },
  {
   "cell_type": "code",
   "execution_count": 3,
   "metadata": {},
   "outputs": [],
   "source": [
    "# Close the browser\n",
    "driver.quit()"
   ]
  },
  {
   "cell_type": "markdown",
   "metadata": {},
   "source": [
    "## Google search"
   ]
  },
  {
   "cell_type": "code",
   "execution_count": 3,
   "metadata": {},
   "outputs": [],
   "source": [
    "driver = webdriver.Chrome(r'chromedriver.exe')\n",
    "driver.get(\"https://www.google.com\")"
   ]
  },
  {
   "cell_type": "code",
   "execution_count": 4,
   "metadata": {},
   "outputs": [
    {
     "data": {
      "text/plain": [
       "<selenium.webdriver.remote.webelement.WebElement (session=\"427ac56b208e9843116cd6c107646dae\", element=\"10c4c376-b30f-48d4-95b1-12d164542cf3\")>"
      ]
     },
     "execution_count": 4,
     "metadata": {},
     "output_type": "execute_result"
    }
   ],
   "source": [
    "#input element has name=\"q\"\n",
    "elem = driver.find_element_by_name(\"q\")\n",
    "elem"
   ]
  },
  {
   "cell_type": "code",
   "execution_count": 6,
   "metadata": {},
   "outputs": [],
   "source": [
    "elem.clear()\n",
    "elem.send_keys(\"go gators\")"
   ]
  },
  {
   "cell_type": "code",
   "execution_count": 7,
   "metadata": {},
   "outputs": [],
   "source": [
    "from selenium.webdriver.common.keys import Keys\n",
    "elem.clear()\n",
    "elem.send_keys(\"go gators\")\n",
    "elem.send_keys(Keys.RETURN)"
   ]
  },
  {
   "cell_type": "code",
   "execution_count": null,
   "metadata": {},
   "outputs": [],
   "source": [
    "# overview of selector functions:\n",
    "# https://selenium-python.readthedocs.io/locating-elements.html"
   ]
  },
  {
   "cell_type": "markdown",
   "metadata": {},
   "source": [
    "## Startengine.com"
   ]
  },
  {
   "cell_type": "code",
   "execution_count": 2,
   "metadata": {},
   "outputs": [],
   "source": [
    "#https://www.startengine.com/explore\n",
    "#driver = webdriver.Chrome(r'chromedriver.exe')\n",
    "driver.get(\"https://www.startengine.com/explore\") "
   ]
  },
  {
   "cell_type": "code",
   "execution_count": 5,
   "metadata": {},
   "outputs": [],
   "source": [
    "# I want selenium to click the 'no thanks' button, \n",
    "# it has id: onesignal-popover-cancel-button\n",
    "el = driver.find_element_by_id(\"onesignal-popover-cancel-button\")\n",
    "el.click()"
   ]
  },
  {
   "cell_type": "code",
   "execution_count": 7,
   "metadata": {},
   "outputs": [
    {
     "name": "stdout",
     "output_type": "stream",
     "text": [
      "<selenium.webdriver.remote.webelement.WebElement (session=\"0deaecc7eb083b543fc439a469fd2a0a\", element=\"d1e6ec8d-4120-44b9-869a-dc073290bc6d\")>\n",
      "https://www.startengine.com/explore?utm_source=startengine&utm_medium=main_website&utm_campaign=nav_bar\n"
     ]
    }
   ],
   "source": [
    "# first hyperlink\n",
    "el = driver.find_element_by_tag_name(\"a\")\n",
    "print (el)\n",
    "print ( el.get_attribute(\"href\") )"
   ]
  },
  {
   "cell_type": "code",
   "execution_count": 31,
   "metadata": {},
   "outputs": [
    {
     "name": "stdout",
     "output_type": "stream",
     "text": [
      "<selenium.webdriver.remote.webelement.WebElement (session=\"0deaecc7eb083b543fc439a469fd2a0a\", element=\"926e42be-7fc7-49a5-806c-803cf8fa7fb5\")>\n",
      "<class 'selenium.webdriver.remote.webelement.WebElement'>\n"
     ]
    }
   ],
   "source": [
    "# all hyperlinks -- notice find_elements (not find_element)\n",
    "elements = driver.find_elements_by_tag_name(\"a\")\n",
    "#type(elements)\n",
    "print( elements[0])\n",
    "print (type (elements[0]))"
   ]
  },
  {
   "cell_type": "code",
   "execution_count": 11,
   "metadata": {},
   "outputs": [
    {
     "data": {
      "text/plain": [
       "128"
      ]
     },
     "execution_count": 11,
     "metadata": {},
     "output_type": "execute_result"
    }
   ],
   "source": [
    "len(elements)"
   ]
  },
  {
   "cell_type": "code",
   "execution_count": 29,
   "metadata": {},
   "outputs": [
    {
     "ename": "JavascriptException",
     "evalue": "Message: javascript error: Cannot read property 'showMore' of undefined\n  (Session info: chrome=79.0.3945.117)\n",
     "output_type": "error",
     "traceback": [
      "\u001b[1;31m---------------------------------------------------------------------------\u001b[0m",
      "\u001b[1;31mJavascriptException\u001b[0m                       Traceback (most recent call last)",
      "\u001b[1;32m<ipython-input-29-62fc570b69e1>\u001b[0m in \u001b[0;36m<module>\u001b[1;34m\u001b[0m\n\u001b[1;32m----> 1\u001b[1;33m \u001b[0mdriver\u001b[0m\u001b[1;33m.\u001b[0m\u001b[0mexecute_script\u001b[0m\u001b[1;33m(\u001b[0m  \u001b[1;34m'window.exploreCtrl.showMore()'\u001b[0m  \u001b[1;33m)\u001b[0m\u001b[1;33m\u001b[0m\u001b[1;33m\u001b[0m\u001b[0m\n\u001b[0m",
      "\u001b[1;32m~\\AppData\\Local\\Continuum\\anaconda3\\lib\\site-packages\\selenium\\webdriver\\remote\\webdriver.py\u001b[0m in \u001b[0;36mexecute_script\u001b[1;34m(self, script, *args)\u001b[0m\n\u001b[0;32m    634\u001b[0m         return self.execute(command, {\n\u001b[0;32m    635\u001b[0m             \u001b[1;34m'script'\u001b[0m\u001b[1;33m:\u001b[0m \u001b[0mscript\u001b[0m\u001b[1;33m,\u001b[0m\u001b[1;33m\u001b[0m\u001b[1;33m\u001b[0m\u001b[0m\n\u001b[1;32m--> 636\u001b[1;33m             'args': converted_args})['value']\n\u001b[0m\u001b[0;32m    637\u001b[0m \u001b[1;33m\u001b[0m\u001b[0m\n\u001b[0;32m    638\u001b[0m     \u001b[1;32mdef\u001b[0m \u001b[0mexecute_async_script\u001b[0m\u001b[1;33m(\u001b[0m\u001b[0mself\u001b[0m\u001b[1;33m,\u001b[0m \u001b[0mscript\u001b[0m\u001b[1;33m,\u001b[0m \u001b[1;33m*\u001b[0m\u001b[0margs\u001b[0m\u001b[1;33m)\u001b[0m\u001b[1;33m:\u001b[0m\u001b[1;33m\u001b[0m\u001b[1;33m\u001b[0m\u001b[0m\n",
      "\u001b[1;32m~\\AppData\\Local\\Continuum\\anaconda3\\lib\\site-packages\\selenium\\webdriver\\remote\\webdriver.py\u001b[0m in \u001b[0;36mexecute\u001b[1;34m(self, driver_command, params)\u001b[0m\n\u001b[0;32m    319\u001b[0m         \u001b[0mresponse\u001b[0m \u001b[1;33m=\u001b[0m \u001b[0mself\u001b[0m\u001b[1;33m.\u001b[0m\u001b[0mcommand_executor\u001b[0m\u001b[1;33m.\u001b[0m\u001b[0mexecute\u001b[0m\u001b[1;33m(\u001b[0m\u001b[0mdriver_command\u001b[0m\u001b[1;33m,\u001b[0m \u001b[0mparams\u001b[0m\u001b[1;33m)\u001b[0m\u001b[1;33m\u001b[0m\u001b[1;33m\u001b[0m\u001b[0m\n\u001b[0;32m    320\u001b[0m         \u001b[1;32mif\u001b[0m \u001b[0mresponse\u001b[0m\u001b[1;33m:\u001b[0m\u001b[1;33m\u001b[0m\u001b[1;33m\u001b[0m\u001b[0m\n\u001b[1;32m--> 321\u001b[1;33m             \u001b[0mself\u001b[0m\u001b[1;33m.\u001b[0m\u001b[0merror_handler\u001b[0m\u001b[1;33m.\u001b[0m\u001b[0mcheck_response\u001b[0m\u001b[1;33m(\u001b[0m\u001b[0mresponse\u001b[0m\u001b[1;33m)\u001b[0m\u001b[1;33m\u001b[0m\u001b[1;33m\u001b[0m\u001b[0m\n\u001b[0m\u001b[0;32m    322\u001b[0m             response['value'] = self._unwrap_value(\n\u001b[0;32m    323\u001b[0m                 response.get('value', None))\n",
      "\u001b[1;32m~\\AppData\\Local\\Continuum\\anaconda3\\lib\\site-packages\\selenium\\webdriver\\remote\\errorhandler.py\u001b[0m in \u001b[0;36mcheck_response\u001b[1;34m(self, response)\u001b[0m\n\u001b[0;32m    240\u001b[0m                 \u001b[0malert_text\u001b[0m \u001b[1;33m=\u001b[0m \u001b[0mvalue\u001b[0m\u001b[1;33m[\u001b[0m\u001b[1;34m'alert'\u001b[0m\u001b[1;33m]\u001b[0m\u001b[1;33m.\u001b[0m\u001b[0mget\u001b[0m\u001b[1;33m(\u001b[0m\u001b[1;34m'text'\u001b[0m\u001b[1;33m)\u001b[0m\u001b[1;33m\u001b[0m\u001b[1;33m\u001b[0m\u001b[0m\n\u001b[0;32m    241\u001b[0m             \u001b[1;32mraise\u001b[0m \u001b[0mexception_class\u001b[0m\u001b[1;33m(\u001b[0m\u001b[0mmessage\u001b[0m\u001b[1;33m,\u001b[0m \u001b[0mscreen\u001b[0m\u001b[1;33m,\u001b[0m \u001b[0mstacktrace\u001b[0m\u001b[1;33m,\u001b[0m \u001b[0malert_text\u001b[0m\u001b[1;33m)\u001b[0m\u001b[1;33m\u001b[0m\u001b[1;33m\u001b[0m\u001b[0m\n\u001b[1;32m--> 242\u001b[1;33m         \u001b[1;32mraise\u001b[0m \u001b[0mexception_class\u001b[0m\u001b[1;33m(\u001b[0m\u001b[0mmessage\u001b[0m\u001b[1;33m,\u001b[0m \u001b[0mscreen\u001b[0m\u001b[1;33m,\u001b[0m \u001b[0mstacktrace\u001b[0m\u001b[1;33m)\u001b[0m\u001b[1;33m\u001b[0m\u001b[1;33m\u001b[0m\u001b[0m\n\u001b[0m\u001b[0;32m    243\u001b[0m \u001b[1;33m\u001b[0m\u001b[0m\n\u001b[0;32m    244\u001b[0m     \u001b[1;32mdef\u001b[0m \u001b[0m_value_or_default\u001b[0m\u001b[1;33m(\u001b[0m\u001b[0mself\u001b[0m\u001b[1;33m,\u001b[0m \u001b[0mobj\u001b[0m\u001b[1;33m,\u001b[0m \u001b[0mkey\u001b[0m\u001b[1;33m,\u001b[0m \u001b[0mdefault\u001b[0m\u001b[1;33m)\u001b[0m\u001b[1;33m:\u001b[0m\u001b[1;33m\u001b[0m\u001b[1;33m\u001b[0m\u001b[0m\n",
      "\u001b[1;31mJavascriptException\u001b[0m: Message: javascript error: Cannot read property 'showMore' of undefined\n  (Session info: chrome=79.0.3945.117)\n"
     ]
    }
   ],
   "source": [
    "driver.execute_script(  'window.exploreCtrl.showMore()'  ) "
   ]
  },
  {
   "cell_type": "code",
   "execution_count": 32,
   "metadata": {},
   "outputs": [
    {
     "name": "stdout",
     "output_type": "stream",
     "text": [
      "71\n",
      "['https://www.startengine.com/terracycle', 'https://www.startengine.com/knightscope', 'https://www.startengine.com/dbg', 'https://www.startengine.com/startengine-crowdfunding', 'https://www.startengine.com/golfboard-2', 'https://www.startengine.com/hylete-2019', 'https://www.startengine.com/liquidpiston', 'https://www.startengine.com/parallel', 'https://www.startengine.com/oneroqspirits', 'https://www.startengine.com/xcraft2018', 'https://www.startengine.com/med-x', 'https://www.startengine.com/atlis-motor-vehicles-3', 'https://www.startengine.com/storen-technologies', 'https://www.startengine.com/fisherwallace', 'https://www.startengine.com/diviniawater', 'https://www.startengine.com/waverly-labs-inc', 'https://www.startengine.com/modvans', 'https://www.startengine.com/raytonone', 'https://www.startengine.com/gosuninc', 'https://www.startengine.com/boku-international-inc', 'https://www.startengine.com/el-tinieblo-international', 'https://www.startengine.com/plantsnap-inc', 'https://www.startengine.com/spero-cbd', 'https://www.startengine.com/sanmelix', 'https://www.startengine.com/thalia', 'https://www.startengine.com/llbusa', 'https://www.startengine.com/called-higher-studios', 'https://www.startengine.com/gradyscoldbrew', 'https://www.startengine.com/smart-soda', 'https://www.startengine.com/karaganda', 'https://www.startengine.com/soapsox', 'https://www.startengine.com/commerceai', 'https://www.startengine.com/biocurity-pharmaceuticals-inc', 'https://www.startengine.com/elevate-nutrition', 'https://www.startengine.com/dapper-boi', 'https://www.startengine.com/eclipsedx', 'https://www.startengine.com/phormed', 'https://www.startengine.com/waterrr-inc', 'https://www.startengine.com/geoship', 'https://www.startengine.com/liberty-plugins-inc', 'https://www.startengine.com/paquitequila', 'https://www.startengine.com/roy-jones-jr-promotions', 'https://www.startengine.com/primelightworks', 'https://www.startengine.com/glow-beverages', 'https://www.startengine.com/atmos-home', 'https://www.startengine.com/clearwaterdistilling', 'https://www.startengine.com/trella', 'https://www.startengine.com/openboxbuy', 'https://www.startengine.com/vegaswinners', 'https://www.startengine.com/osiris', 'https://www.startengine.com/wand', 'https://www.startengine.com/msbai', 'https://www.startengine.com/81-c', 'https://www.startengine.com/skunk-brothers', 'https://www.startengine.com/megalopolis-city-of-collectibles', 'https://www.startengine.com/eight-bridges-brewing-inc', 'https://www.startengine.com/xti-aircraft', 'https://www.startengine.com/airemos', 'https://www.startengine.com/ourox', 'https://www.startengine.com/akibah-health', 'https://www.startengine.com/life-scan', 'https://www.startengine.com/nira-skin', 'https://www.startengine.com/hara-flow', 'https://www.startengine.com/rhino-hide-inc', 'https://www.startengine.com/metaiyeknights', 'https://www.startengine.com/rumblemotors', 'https://www.startengine.com/chow', 'https://www.startengine.com/elliptigo-2', 'https://www.startengine.com/companioncbd', 'https://www.startengine.com/outbound-brewing', 'https://www.startengine.com/tacotopia-inc']\n"
     ]
    }
   ],
   "source": [
    "pagesToCrawl = []\n",
    "for el in elements:\n",
    "    parent = el.find_element_by_xpath('..')    \n",
    "    if (parent.get_attribute('class')  == 'tombstone'):\n",
    "        #print(el.get_attribute(\"href\"))\n",
    "        pagesToCrawl.append( el.get_attribute(\"href\")  )\n",
    "    #print(parent)\n",
    "    #print(el.get_attribute(\"href\"))\n",
    "print(len(pagesToCrawl))\n",
    "print (pagesToCrawl)\n"
   ]
  },
  {
   "cell_type": "code",
   "execution_count": 46,
   "metadata": {},
   "outputs": [
    {
     "name": "stdout",
     "output_type": "stream",
     "text": [
      "https://www.startengine.com/terracycle <html><head><style type=\"text/css\">[uib-typeahead-popup].dropdown-menu{display:block;}</style><style\n",
      "https://www.startengine.com/knightscope <html><head><style type=\"text/css\">[uib-typeahead-popup].dropdown-menu{display:block;}</style><style\n",
      "https://www.startengine.com/dbg <html><head><style type=\"text/css\">[uib-typeahead-popup].dropdown-menu{display:block;}</style><style\n",
      "https://www.startengine.com/startengine-crowdfunding <html><head><style type=\"text/css\">[uib-typeahead-popup].dropdown-menu{display:block;}</style><style\n",
      "https://www.startengine.com/golfboard-2 <html><head><style type=\"text/css\">[uib-typeahead-popup].dropdown-menu{display:block;}</style><style\n"
     ]
    }
   ],
   "source": [
    "# this assumes you have an 'output' folder\n",
    "\n",
    "#loop through pages to crawl\n",
    "for page in pagesToCrawl[0:5]:\n",
    "    driver.get( page  )\n",
    "    content = driver.page_source\n",
    "    print(page, content[0:100])\n",
    "    filename = page[   page.rfind('/') + 1 :]\n",
    "    with open('output/' + filename + '.html', 'w', encoding=\"utf-8\") as f:\n",
    "        f.write(content)\n",
    "    time.sleep(1)\n",
    "    "
   ]
  },
  {
   "cell_type": "code",
   "execution_count": 38,
   "metadata": {},
   "outputs": [
    {
     "data": {
      "text/plain": [
       "'terracycle'"
      ]
     },
     "execution_count": 38,
     "metadata": {},
     "output_type": "execute_result"
    }
   ],
   "source": [
    "# how to get the project name based on the url\n",
    "# https://www.startengine.com/terracycle  -> terracylce\n",
    "url = 'https://www.startengine.com/terracycle'\n",
    "# starting from the right, where is the / (Last /), then grab whatever follows\n",
    "\n",
    "filename = url[   url.rfind('/') + 1 :]\n",
    "name"
   ]
  },
  {
   "cell_type": "code",
   "execution_count": 49,
   "metadata": {},
   "outputs": [
    {
     "data": {
      "text/plain": [
       "'<h2 style=\"text-align: center;\">GolfBoarders are Passionate</h2>\\n</div>\\n\\n    </div>\\n  </div>\\n  <div id=\"header_1478906531849\" class=\"story-section-item container \">\\n    <div class=\"row\">\\n        <div class=\"story-header col-xs-12\">\\n  <h3 style=\"text-align: center;\">Surfer / Entrepreneur Laird Hamilton</h3>\\n</div>\\n\\n    </div>\\n  </div>\\n  <div id=\"row_1478906120044\" class=\"story-section-item container \">\\n    <div class=\"row\">\\n            <div class=\"story-column col-xs-12 col-sm-6\">\\n            <div class=\"story-column-item\" id=\"paragraph_1478906122717\">\\n                <div class=\"story-paragraph \">\\n  <p>\"I\\'ve been riding the world’s biggest waves my entire life, and played a major role in the evolution of surfboard design and new technologies. During this time I helped advance surfing to include stand-up paddle boarding, tow-in surfing , and hydrofoil boarding. This unleashed a whole new market of surfers. My passion for board sports advancements made me want to explore taking the surfi'"
      ]
     },
     "execution_count": 49,
     "metadata": {},
     "output_type": "execute_result"
    }
   ],
   "source": [
    "content[40000:41000]"
   ]
  },
  {
   "cell_type": "markdown",
   "metadata": {},
   "source": [
    "## Crawl (many) urls"
   ]
  },
  {
   "cell_type": "code",
   "execution_count": null,
   "metadata": {},
   "outputs": [],
   "source": [
    "# Example: scraping the web\n",
    "# load external file that has an identifier (unique number) and a url\n",
    "# Load each url and write it to disk (with identifier as the file name)"
   ]
  },
  {
   "cell_type": "code",
   "execution_count": 22,
   "metadata": {},
   "outputs": [
    {
     "data": {
      "text/plain": [
       "[{'id': '3', 'url': 'http://www.ufl.edu'},\n",
       " {'id': '2',\n",
       "  'url': 'https://www.sec.gov/cgi-bin/browse-edgar?CIK=aapl&Find=Search&owner=exclude&action=getcompany'},\n",
       " {'id': '1',\n",
       "  'url': 'https://www.sec.gov/Archives/edgar/data/880417/000090631803000077/0000906318-03-000077.txt'}]"
      ]
     },
     "execution_count": 22,
     "metadata": {},
     "output_type": "execute_result"
    }
   ],
   "source": [
    "import csv\n",
    "\n",
    "# import the file with ids and urls\n",
    "with open('list.txt') as f: \n",
    "    # pages is a list of dictionaries, where each dictionary has a 'id' and 'url' attribute (see text file)\n",
    "    pages = [ {k: v for k, v in row.items()} for row in csv.DictReader(f, delimiter='|', skipinitialspace=True)]\n",
    "pages\n",
    "    "
   ]
  },
  {
   "cell_type": "code",
   "execution_count": 23,
   "metadata": {},
   "outputs": [],
   "source": [
    "# open a browser\n",
    "driver = webdriver.Chrome(r'chromedriver.exe')\n",
    "    \n",
    "# loop through pages\n",
    "for page in pages:\n",
    "    # go to url\n",
    "    driver.get(page[\"url\"])\n",
    "    # some time to finish loading\n",
    "    driver.implicitly_wait(2)\n",
    "    # grab contents (encoding deals with special characters)\n",
    "    contents = driver.page_source.encode(\"utf-8\")\n",
    "    # write to output folder (needs to exist)\n",
    "    filename = \"output/{}.html\".format( page[\"id\"])\n",
    "    with open( filename, 'wb') as fd_html:\n",
    "        fd_html.write( contents ) \n",
    "    fd_html.close() \n",
    "    # take a well deserved rest\n",
    "    driver.implicitly_wait(2)\n",
    "\n",
    "# done\n",
    "#driver.quit()"
   ]
  },
  {
   "cell_type": "markdown",
   "metadata": {
    "collapsed": true
   },
   "source": [
    "## In-class assignment"
   ]
  },
  {
   "cell_type": "code",
   "execution_count": null,
   "metadata": {},
   "outputs": [],
   "source": [
    "# Crawl the crowdfunding pages at https://www.startengine.com/explore\n",
    "# Collect the urls to the different projects, go to each project page, and save it to disk.\n",
    "# Hint: see code snippet startengine above: this gets all hyperlinks; can you get the 'parent' of each and see the class? \n",
    "# Use google (how to find the parent of an element selenium python) (the parent has a class 'tombstone') use \n",
    "# get_attribute(\"class\") function to get the class of an element (parent class should be 'tombstone')"
   ]
  }
 ],
 "metadata": {
  "kernelspec": {
   "display_name": "Python 3",
   "language": "python",
   "name": "python3"
  },
  "language_info": {
   "codemirror_mode": {
    "name": "ipython",
    "version": 3
   },
   "file_extension": ".py",
   "mimetype": "text/x-python",
   "name": "python",
   "nbconvert_exporter": "python",
   "pygments_lexer": "ipython3",
   "version": "3.7.3"
  }
 },
 "nbformat": 4,
 "nbformat_minor": 1
}
