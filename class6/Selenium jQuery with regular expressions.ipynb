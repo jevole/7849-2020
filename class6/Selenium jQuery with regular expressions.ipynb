{
 "cells": [
  {
   "cell_type": "code",
   "execution_count": 1,
   "metadata": {},
   "outputs": [],
   "source": [
    "from selenium import webdriver\n",
    "\n",
    "# open startengine; load jquery\n",
    "driver = webdriver.Chrome(r'chromedriver.exe')\n",
    "driver.get(\"https://www.startengine.com/explore\") \n",
    "with open('jquery.js', 'r') as jquery_js:\n",
    "    driver.execute_script( jquery_js.read() ) "
   ]
  },
  {
   "cell_type": "code",
   "execution_count": 2,
   "metadata": {},
   "outputs": [],
   "source": [
    "myJs = \"\"\"\n",
    "getStats = function ( el) {\n",
    "\t// result -- list of dictionaries\n",
    "\tresult = []\n",
    "\n",
    "\t// gives statistics (amount raised, et)\n",
    "\tstats = $(el).find(\"div.stat\")\n",
    "\n",
    "\t// for each of the things in stats we want the details\n",
    "\tstats.each( function( index, j ){\n",
    "\t\t// do stuff with j\n",
    "\t\tconsole.log('element', index, $(j).html() )\n",
    "\t\t// grab 'raised' or 'min invest'\n",
    "\t\tm = $(j).html().match(/<span>(.*?)<\\/span/)[1]\n",
    "\t\t// amount (like $11.6M)\n",
    "\t\tn = $(j).find(\"div.num\").text()\n",
    "\t\tconsole.log('m: ', m, 'n: ', n)\n",
    "\t\tvar obj = {}\n",
    "\t\tobj[m] = n\n",
    "\t\tresult.push ( obj  )\n",
    "\t})\t\n",
    "\tproject = {}\n",
    "\tproject['name'] = $(el).find('.tombstone-content h5').text()\n",
    "\tproject['stats'] = result\n",
    "\treturn ( project  ) \n",
    "}\n",
    "\n",
    "\n",
    "// els: list of all the projects\n",
    "\n",
    "window.allResults = []\n",
    "els.each( function(index, e) {\n",
    "\n",
    "\twindow.allResults.push( getStats ( $(e) ) )\n",
    "})\n",
    "\"\"\""
   ]
  },
  {
   "cell_type": "code",
   "execution_count": 3,
   "metadata": {},
   "outputs": [],
   "source": [
    "driver.execute_script( myJs ) "
   ]
  },
  {
   "cell_type": "code",
   "execution_count": 7,
   "metadata": {},
   "outputs": [
    {
     "name": "stdout",
     "output_type": "stream",
     "text": [
      "type of myData <class 'list'>\n",
      "type of myData[0] <class 'dict'>\n",
      "{'name': 'Terracycle', 'stats': [{'Raised': '$11.6M'}, {'Min Invest': '$700'}]}\n"
     ]
    }
   ],
   "source": [
    "myData = driver.execute_script( 'return window.allResults' )\n",
    "print('type of myData', type( myData) )\n",
    "print('type of myData[0]', type( myData[0]) )\n",
    "print(myData[0])\n"
   ]
  },
  {
   "cell_type": "code",
   "execution_count": null,
   "metadata": {},
   "outputs": [],
   "source": [
    "# remember that if we did regex to get to amount raised we had this regex:\n",
    "# col-xs-4 col-centered stat\">.*?\\$(\\d*).*?\"abbrev-number\">(\\w)<.*?<span>Raised<\\/span>"
   ]
  },
  {
   "cell_type": "code",
   "execution_count": null,
   "metadata": {},
   "outputs": [],
   "source": [
    "# in console, grab divs with class tombstone: $('div.tombstone')\n",
    "# notice div with class 'tombstone-stats row'\n",
    "# do you see that each div within that holds 'something' (amount raised, or min invest)\n",
    "# what we can do is get all of these (get the text in span, and get the 'num')"
   ]
  },
  {
   "cell_type": "code",
   "execution_count": null,
   "metadata": {},
   "outputs": [],
   "source": [
    "Javascript, use this in the console (F12):\n",
    "    \n",
    "els = $('div.tombstone')\n",
    "el = els[0]\n",
    "$(el).find('.tombstone-stats')\n",
    "$(el).find('.tombstone-stats .stat')\n",
    "$(el).find('.tombstone-stats .stat .num').text()\n",
    "\n",
    "el_1 = $(el).find('.tombstone-stats .stat')[0]\n",
    "$(el_1).find(\"div\").text()\n",
    "$(el_1).html().includes('<span>Raised</span>')\n",
    "\n",
    "el_2 = $(el).find('.tombstone-stats .stat')[1]\n",
    "$(el_2).find(\"div\").text()\n",
    "$(el_1).html().includes('<span>Min Invest</span>')\n",
    "\n",
    "/* function to figure out what is in the cell */\n",
    "getVariable  = function (el){\n",
    "\n",
    "    if (  $(el).html().includes('<span>Raised</span>') ) {\n",
    "        return 'raised'\n",
    "    } else if ( $(el).html().includes('<span>Min Invest</span>')  ) {\n",
    "        return 'min_invest'\n",
    "    } else if ( $(el).html().includes('<span>Days Left</span>')  ) {\n",
    "        return 'days_left'\n",
    "    } else if ( $(el).html().includes('<span>Investors</span>')  ) {\n",
    "        return 'investors'\n",
    "    } else {\n",
    "        return 'unknown'\n",
    "    }\n",
    "}\n",
    "\n",
    "/* function to get what we want from each project */\n",
    "ProcessProject = function (el){\n",
    "    project = {}\n",
    "    project['name'] = $(el).find('.tombstone-content h5').text()\n",
    "    /*project['url'] = $(el).find('a').attr('href'); */\n",
    "    info = $(el).find('.tombstone-stats .stat');\n",
    "    info.each( function( index, j ){\n",
    "        text = $(j).find(\"div\").text();\n",
    "        varType = getVariable(j); \n",
    "        project[varType] = text        \n",
    "    } )\n",
    "    return (project)\n",
    "}\n",
    "\n",
    "/* example */\n",
    "ProcessProject(el)\n",
    "\n",
    "/* go through all projects */\n",
    "result = []\n",
    "$('div.tombstone').each( function (index, project){\n",
    "    result.push ( ProcessProject (project) );\n",
    "})\n",
    "console.log(result)\n"
   ]
  },
  {
   "cell_type": "code",
   "execution_count": 2,
   "metadata": {},
   "outputs": [
    {
     "data": {
      "text/plain": [
       "[{'min_invest': '$700', 'name': 'Terracycle', 'raised': '$11.5M'},\n",
       " {'min_invest': '$1K', 'name': 'Knightscope', 'raised': '$7.7M'},\n",
       " {'investors': '3.2K',\n",
       "  'min_invest': '$500',\n",
       "  'name': 'Digital Brands Group',\n",
       "  'raised': '$4.9M'},\n",
       " {'investors': '4.2K',\n",
       "  'min_invest': '$503',\n",
       "  'name': 'StartEngine',\n",
       "  'raised': '$4.9M'},\n",
       " {'min_invest': '$2.5K', 'name': 'GolfBoard', 'raised': '$1.2M'}]"
      ]
     },
     "execution_count": 2,
     "metadata": {},
     "output_type": "execute_result"
    }
   ],
   "source": [
    "mycode = \"\"\"\n",
    "getVariable  = function (el){\n",
    "\n",
    "    if (  $(el).html().includes('<span>Raised</span>') ) {\n",
    "        return 'raised'\n",
    "    } else if ( $(el).html().includes('<span>Min Invest</span>')  ) {\n",
    "        return 'min_invest'\n",
    "    } else if ( $(el).html().includes('<span>Days Left</span>')  ) {\n",
    "        return 'days_left'\n",
    "    } else if ( $(el).html().includes('<span>Investors</span>')  ) {\n",
    "        return 'investors'\n",
    "    } else {\n",
    "        return 'unknown'\n",
    "    }\n",
    "}\n",
    "\n",
    "\n",
    "ProcessProject = function (el){\n",
    "    project = {}\n",
    "    project['name'] = $(el).find('.tombstone-content h5').text()\n",
    "    /*project['url'] = $(el).find('a').attr('href'); */\n",
    "    info = $(el).find('.tombstone-stats .stat');\n",
    "    info.each( function( index, j ){\n",
    "        text = $(j).find(\"div\").text();\n",
    "        varType = getVariable(j); \n",
    "        project[varType] = text        \n",
    "    } )\n",
    "    return (project)\n",
    "}\n",
    "\n",
    "window.getAllProjects = function() {\n",
    "    result = []\n",
    "    $('div.tombstone').each( function (index, project){\n",
    "        result.push ( ProcessProject (project) );\n",
    "    });\n",
    "    return (result)\n",
    "}\n",
    "\n",
    "\n",
    "\"\"\"\n",
    "driver.execute_script( mycode  )\n",
    "projects = driver.execute_script( 'return window.getAllProjects()'  )\n",
    "projects[0:5]"
   ]
  }
 ],
 "metadata": {
  "kernelspec": {
   "display_name": "Python 3",
   "language": "python",
   "name": "python3"
  },
  "language_info": {
   "codemirror_mode": {
    "name": "ipython",
    "version": 3
   },
   "file_extension": ".py",
   "mimetype": "text/x-python",
   "name": "python",
   "nbconvert_exporter": "python",
   "pygments_lexer": "ipython3",
   "version": "3.7.3"
  }
 },
 "nbformat": 4,
 "nbformat_minor": 2
}
