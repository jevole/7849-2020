{
 "cells": [
  {
   "cell_type": "code",
   "execution_count": 1,
   "metadata": {},
   "outputs": [],
   "source": [
    "# read the header into a string\n",
    "with open('Apple 10K header.txt', 'r') as file:\n",
    "    filing = file.read()"
   ]
  },
  {
   "cell_type": "code",
   "execution_count": 2,
   "metadata": {},
   "outputs": [
    {
     "data": {
      "text/plain": [
       "'<SEC-DOCUMENT>0000320193-19-000119.txt : 20191031\\n<SEC-HEADER>0000320193-19-000119.hdr.sgml : 201910'"
      ]
     },
     "execution_count": 2,
     "metadata": {},
     "output_type": "execute_result"
    }
   ],
   "source": [
    "filing[0:100]"
   ]
  },
  {
   "cell_type": "code",
   "execution_count": 3,
   "metadata": {},
   "outputs": [],
   "source": [
    "import re"
   ]
  },
  {
   "cell_type": "code",
   "execution_count": 8,
   "metadata": {},
   "outputs": [],
   "source": [
    "# dictionary to hold filing details\n",
    "filingDetails = {}"
   ]
  },
  {
   "cell_type": "code",
   "execution_count": 24,
   "metadata": {},
   "outputs": [],
   "source": [
    "# function that retrieves timestamp\n",
    "def getTimestamp( filing ):\n",
    "    timestamp = re.findall( r\"ACCEPTANCE-DATETIME\\>(\\d{14})\", filing )  \n",
    "    if (len(timestamp) == 1):\n",
    "        return(timestamp[0])\n",
    "    \n",
    "def getIndustry( filing ):\n",
    "    industry = re.findall( r\"INDUSTRIAL CLASSIFICATION\\:([\\s\\w]*)\\[(\\d{4})\\]\", filing ) \n",
    "    if (len(industry) == 1):\n",
    "        return(industry[0][0].strip(), industry[0][1])\n",
    "\n",
    "def getFormernames(filing):\n",
    "    formernames = re.findall( r\"FORMER CONFORMED NAME:(.*?)$\\s*DATE OF NAME CHANGE:\\s*(\\d{8})\", filing, flags = re.MULTILINE )\n",
    "    names =[]\n",
    "    for former in formernames:\n",
    "        names.append ( { 'name' : former[0].strip(), 'date': former[1]} )\n",
    "    return (names)\n",
    "    "
   ]
  },
  {
   "cell_type": "code",
   "execution_count": 16,
   "metadata": {},
   "outputs": [
    {
     "name": "stdout",
     "output_type": "stream",
     "text": [
      "number 1\n",
      "greeting hi\n"
     ]
    }
   ],
   "source": [
    "def iguana():\n",
    "    return (1, 'hi')\n",
    "\n",
    "number, greeting = iguana()\n",
    "print ('number', number)\n",
    "print ('greeting', greeting)"
   ]
  },
  {
   "cell_type": "code",
   "execution_count": 25,
   "metadata": {},
   "outputs": [
    {
     "data": {
      "text/plain": [
       "{'ts': '20191030181236',\n",
       " 'industry': 'ELECTRONIC COMPUTERS',\n",
       " 'CIK': '3571',\n",
       " 'formernames': [{'name': 'APPLE INC', 'date': '20070109'},\n",
       "  {'name': 'APPLE COMPUTER INC', 'date': '19970808'}]}"
      ]
     },
     "execution_count": 25,
     "metadata": {},
     "output_type": "execute_result"
    }
   ],
   "source": [
    "filingDetails['ts'] = getTimestamp(filing)\n",
    "filingDetails['industry'], filingDetails['CIK'] = getIndustry (filing)\n",
    "filingDetails['formernames'] = getFormernames (filing)\n",
    "filingDetails"
   ]
  },
  {
   "cell_type": "code",
   "execution_count": 18,
   "metadata": {},
   "outputs": [
    {
     "name": "stdout",
     "output_type": "stream",
     "text": [
      "industry [('\\tELECTRONIC COMPUTERS ', '3571')]\n",
      "industry[0] ('\\tELECTRONIC COMPUTERS ', '3571')\n",
      "industry[0][0] \tELECTRONIC COMPUTERS \n",
      "industry[0][1] 3571\n"
     ]
    }
   ],
   "source": [
    "industry = re.findall( r\"INDUSTRIAL CLASSIFICATION\\:([\\s\\w]*)\\[(\\d{4})\\]\", filing )  \n",
    "\n",
    "print('industry', industry)\n",
    "print('industry[0]', industry[0])\n",
    "print('industry[0][0]', industry[0][0])\n",
    "print('industry[0][1]', industry[0][1])\n"
   ]
  },
  {
   "cell_type": "code",
   "execution_count": 6,
   "metadata": {},
   "outputs": [
    {
     "name": "stdout",
     "output_type": "stream",
     "text": [
      "what does \t do?\n",
      "what does \\t do?\n"
     ]
    }
   ],
   "source": [
    "print('what does \\t do?')\n",
    "print(r'what does \\t do?')"
   ]
  },
  {
   "cell_type": "code",
   "execution_count": 20,
   "metadata": {},
   "outputs": [
    {
     "data": {
      "text/plain": [
       "[('\\tAPPLE INC', '20070109'), ('\\tAPPLE COMPUTER INC', '19970808')]"
      ]
     },
     "execution_count": 20,
     "metadata": {},
     "output_type": "execute_result"
    }
   ],
   "source": [
    "formernames = re.findall( r\"FORMER CONFORMED NAME:(.*?)$\\s*DATE OF NAME CHANGE:\\s*(\\d{8})\", filing, flags = re.MULTILINE )  \n",
    "formernames\n",
    "\n"
   ]
  }
 ],
 "metadata": {
  "kernelspec": {
   "display_name": "Python 3",
   "language": "python",
   "name": "python3"
  },
  "language_info": {
   "codemirror_mode": {
    "name": "ipython",
    "version": 3
   },
   "file_extension": ".py",
   "mimetype": "text/x-python",
   "name": "python",
   "nbconvert_exporter": "python",
   "pygments_lexer": "ipython3",
   "version": "3.7.3"
  }
 },
 "nbformat": 4,
 "nbformat_minor": 2
}
