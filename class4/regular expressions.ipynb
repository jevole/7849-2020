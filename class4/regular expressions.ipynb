{
 "cells": [
  {
   "cell_type": "markdown",
   "metadata": {},
   "source": [
    "# Regular expressions"
   ]
  },
  {
   "cell_type": "markdown",
   "metadata": {},
   "source": [
    "## Overview/cheat sheet\n",
    "\n",
    "See [https://github.com/zeeshanu/learn-regex](https://github.com/zeeshanu/learn-regex)"
   ]
  },
  {
   "cell_type": "markdown",
   "metadata": {},
   "source": [
    "## Websites for testing Regex\n",
    "\n",
    "Websites to write/debug regular expressions: [Regexr.com](Regexr.com) and [Regex101.com](Regex101.com)"
   ]
  },
  {
   "cell_type": "markdown",
   "metadata": {},
   "source": [
    "### Main functions\n",
    "\n",
    "There are 3 main regex functions: `match`, `search` and `findall` (multiple matches).     \n",
    "    \n",
    "The difference between `match` and `search` is that `match` matches on the beginning of the string (and `search` matches anywhere). "
   ]
  },
  {
   "cell_type": "code",
   "execution_count": 3,
   "metadata": {},
   "outputs": [
    {
     "name": "stdout",
     "output_type": "stream",
     "text": [
      "None\n",
      "<re.Match object; span=(2, 3), match='c'>\n"
     ]
    }
   ],
   "source": [
    "import re\n",
    "print ( re.match(\"c\", \"abcdef\")  )  # None\n",
    "print ( re.search(\"c\", \"abcdef\") )  # Matches c"
   ]
  },
  {
   "cell_type": "code",
   "execution_count": 2,
   "metadata": {},
   "outputs": [
    {
     "data": {
      "text/plain": [
       "['carefully', 'quickly']"
      ]
     },
     "execution_count": 2,
     "metadata": {},
     "output_type": "execute_result"
    }
   ],
   "source": [
    "text = \"He was carefully disguised but captured quickly by police.\"\n",
    "re.findall(r\"\\w+ly\", text)"
   ]
  },
  {
   "cell_type": "markdown",
   "metadata": {},
   "source": [
    "### Compile\n",
    "\n",
    "```python\n",
    "re.compile(pattern, flags = 0)\n",
    "```\n",
    "Compile a regular expression pattern into a regular expression object, which can be used for matching using its `match()`, `search()` and other methods, described below.\n",
    "\n",
    "The sequence:\n",
    "```python\n",
    "prog = re.compile(pattern)\n",
    "result = prog.match(string)\n",
    "```\n",
    "\n",
    "is equivalent to\n",
    "\n",
    "```python\n",
    "result = re.match(pattern, string)\n",
    "```\n",
    "\n",
    "Using `re.compile()` and saving the resulting regular expression object for reuse is more efficient when the expression will be used several times in a single program.\n",
    "\n",
    "It will be easier to use the compile method while experimenting.\n",
    "\n",
    "The `findall()` function returns the non-overlapping matches of pattern in string as a list of strings (or list of tuples if there are multiple matching groups).\n",
    "\n",
    "Check the [Module Contents](https://docs.python.org/3/library/re.html#module-contents) page for the various methods available. "
   ]
  },
  {
   "cell_type": "markdown",
   "metadata": {},
   "source": [
    "### Flags\n",
    "\n",
    "See [http://xahlee.info/python/python_regex_flags.html](http://xahlee.info/python/python_regex_flags.html) for the different flags you can use."
   ]
  },
  {
   "cell_type": "code",
   "execution_count": null,
   "metadata": {},
   "outputs": [],
   "source": [
    "## Raw string"
   ]
  },
  {
   "cell_type": "code",
   "execution_count": 6,
   "metadata": {},
   "outputs": [
    {
     "name": "stdout",
     "output_type": "stream",
     "text": [
      "As raw string \\b shows up correctly with \\ and b\n",
      "Without r: As raw string \b shows up correctly with \\ and b\n"
     ]
    }
   ],
   "source": [
    "print (r\"As raw string \\b shows up correctly with \\ and b\")\n",
    "print (\"Without r: As raw string \\b shows up correctly with \\ and b\") # not correct"
   ]
  },
  {
   "cell_type": "code",
   "execution_count": 14,
   "metadata": {},
   "outputs": [
    {
     "data": {
      "text/plain": [
       "['He',\n",
       " ' ',\n",
       " 'was',\n",
       " ' ',\n",
       " 'carefully',\n",
       " ' ',\n",
       " 'disguised',\n",
       " ' ',\n",
       " 'but',\n",
       " ' ',\n",
       " 'captured',\n",
       " ' ',\n",
       " 'quickly',\n",
       " ' ',\n",
       " 'by',\n",
       " ' ',\n",
       " 'police']"
      ]
     },
     "execution_count": 14,
     "metadata": {},
     "output_type": "execute_result"
    }
   ],
   "source": [
    "# in regular expressions, \\b matches on a word boundary\n",
    "text = \"He was carefully disguised but captured quickly by police.\"\n",
    "# \\b word boundary\n",
    "# .+? one or more of anything, ? makes this non-greedy (stop as soon as you can)\n",
    "# \\b another word boundary\n",
    "re.findall(r\"\\b.+?\\b\", text) "
   ]
  },
  {
   "cell_type": "markdown",
   "metadata": {},
   "source": [
    "## Capturing groups (retrieving something)"
   ]
  },
  {
   "cell_type": "code",
   "execution_count": 18,
   "metadata": {},
   "outputs": [
    {
     "name": "stdout",
     "output_type": "stream",
     "text": [
      "[('Don 337', 'Don', '337'), ('Mike 325', 'Mike', '325')]\n"
     ]
    }
   ],
   "source": [
    "result = re.findall(\"((\\w+)\\s(\\d{3}))\", \"blahh ... office of Don 337 and Mike 325 ... blah\")  \n",
    "print(result)"
   ]
  },
  {
   "cell_type": "code",
   "execution_count": 20,
   "metadata": {},
   "outputs": [
    {
     "name": "stdout",
     "output_type": "stream",
     "text": [
      "The person name is Don and the room number is 337\n",
      "The person name is Mike and the room number is 325\n"
     ]
    }
   ],
   "source": [
    "for r in result:\n",
    "    print (  \"The person name is {} and the room number is {}\".format(r[1], r[2])  )"
   ]
  },
  {
   "cell_type": "code",
   "execution_count": 21,
   "metadata": {},
   "outputs": [
    {
     "name": "stdout",
     "output_type": "stream",
     "text": [
      "[('Don', '337'), ('Mike', '325')]\n"
     ]
    }
   ],
   "source": [
    "# removed 'outer' group\n",
    "result = re.findall(\"(\\w+)\\s(\\d{3})\", \"blahh ... office of Don 337 and Mike 325 ... blah\")  \n",
    "print(result)"
   ]
  }
 ],
 "metadata": {
  "kernelspec": {
   "display_name": "Python 3",
   "language": "python",
   "name": "python3"
  },
  "language_info": {
   "codemirror_mode": {
    "name": "ipython",
    "version": 3
   },
   "file_extension": ".py",
   "mimetype": "text/x-python",
   "name": "python",
   "nbconvert_exporter": "python",
   "pygments_lexer": "ipython3",
   "version": "3.7.3"
  }
 },
 "nbformat": 4,
 "nbformat_minor": 2
}
